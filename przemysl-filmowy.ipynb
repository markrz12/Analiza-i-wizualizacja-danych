{
 "cells": [
  {
   "cell_type": "code",
   "execution_count": 23,
   "metadata": {},
   "outputs": [],
   "source": [
    "import numpy as np\n",
    "import pandas as pd\n",
    "import matplotlib.pyplot as plt\n",
    "import scipy.stats as st\n",
    "import os"
   ]
  },
  {
   "cell_type": "code",
   "execution_count": 24,
   "metadata": {},
   "outputs": [
    {
     "data": {
      "text/plain": [
       "['.ipynb_checkpoints', 'movies.csv', 'przemysl-filmowy.ipynb', 'README.md']"
      ]
     },
     "execution_count": 24,
     "metadata": {},
     "output_type": "execute_result"
    }
   ],
   "source": [
    "os.listdir()  "
   ]
  },
  {
   "cell_type": "code",
   "execution_count": 25,
   "metadata": {},
   "outputs": [
    {
     "name": "stdout",
     "output_type": "stream",
     "text": [
      "<class 'pandas.core.frame.DataFrame'>\n",
      "RangeIndex: 6820 entries, 0 to 6819\n",
      "Data columns (total 15 columns):\n",
      " #   Column    Non-Null Count  Dtype  \n",
      "---  ------    --------------  -----  \n",
      " 0   budget    6820 non-null   float64\n",
      " 1   company   6820 non-null   object \n",
      " 2   country   6820 non-null   object \n",
      " 3   director  6820 non-null   object \n",
      " 4   genre     6820 non-null   object \n",
      " 5   gross     6820 non-null   float64\n",
      " 6   name      6820 non-null   object \n",
      " 7   rating    6820 non-null   object \n",
      " 8   released  6820 non-null   object \n",
      " 9   runtime   6820 non-null   int64  \n",
      " 10  score     6820 non-null   float64\n",
      " 11  star      6820 non-null   object \n",
      " 12  votes     6820 non-null   int64  \n",
      " 13  writer    6820 non-null   object \n",
      " 14  year      6820 non-null   int64  \n",
      "dtypes: float64(3), int64(3), object(9)\n",
      "memory usage: 799.3+ KB\n"
     ]
    }
   ],
   "source": [
    "plik = 'movies.csv'\n",
    "data = pd.read_csv(plik, encoding='cp1252')\n",
    "data.info()"
   ]
  },
  {
   "cell_type": "code",
   "execution_count": 26,
   "metadata": {},
   "outputs": [
    {
     "data": {
      "text/html": [
       "<div>\n",
       "<style scoped>\n",
       "    .dataframe tbody tr th:only-of-type {\n",
       "        vertical-align: middle;\n",
       "    }\n",
       "\n",
       "    .dataframe tbody tr th {\n",
       "        vertical-align: top;\n",
       "    }\n",
       "\n",
       "    .dataframe thead th {\n",
       "        text-align: right;\n",
       "    }\n",
       "</style>\n",
       "<table border=\"1\" class=\"dataframe\">\n",
       "  <thead>\n",
       "    <tr style=\"text-align: right;\">\n",
       "      <th></th>\n",
       "      <th>budget</th>\n",
       "      <th>company</th>\n",
       "      <th>country</th>\n",
       "      <th>director</th>\n",
       "      <th>genre</th>\n",
       "      <th>gross</th>\n",
       "      <th>name</th>\n",
       "      <th>rating</th>\n",
       "      <th>released</th>\n",
       "      <th>runtime</th>\n",
       "      <th>score</th>\n",
       "      <th>star</th>\n",
       "      <th>votes</th>\n",
       "      <th>writer</th>\n",
       "      <th>year</th>\n",
       "    </tr>\n",
       "  </thead>\n",
       "  <tbody>\n",
       "    <tr>\n",
       "      <th>0</th>\n",
       "      <td>8000000.0</td>\n",
       "      <td>Columbia Pictures Corporation</td>\n",
       "      <td>USA</td>\n",
       "      <td>Rob Reiner</td>\n",
       "      <td>Adventure</td>\n",
       "      <td>52287414.0</td>\n",
       "      <td>Stand by Me</td>\n",
       "      <td>R</td>\n",
       "      <td>1986-08-22</td>\n",
       "      <td>89</td>\n",
       "      <td>8.1</td>\n",
       "      <td>Wil Wheaton</td>\n",
       "      <td>299174</td>\n",
       "      <td>Stephen King</td>\n",
       "      <td>1986</td>\n",
       "    </tr>\n",
       "    <tr>\n",
       "      <th>1</th>\n",
       "      <td>6000000.0</td>\n",
       "      <td>Paramount Pictures</td>\n",
       "      <td>USA</td>\n",
       "      <td>John Hughes</td>\n",
       "      <td>Comedy</td>\n",
       "      <td>70136369.0</td>\n",
       "      <td>Ferris Bueller's Day Off</td>\n",
       "      <td>PG-13</td>\n",
       "      <td>1986-06-11</td>\n",
       "      <td>103</td>\n",
       "      <td>7.8</td>\n",
       "      <td>Matthew Broderick</td>\n",
       "      <td>264740</td>\n",
       "      <td>John Hughes</td>\n",
       "      <td>1986</td>\n",
       "    </tr>\n",
       "    <tr>\n",
       "      <th>2</th>\n",
       "      <td>15000000.0</td>\n",
       "      <td>Paramount Pictures</td>\n",
       "      <td>USA</td>\n",
       "      <td>Tony Scott</td>\n",
       "      <td>Action</td>\n",
       "      <td>179800601.0</td>\n",
       "      <td>Top Gun</td>\n",
       "      <td>PG</td>\n",
       "      <td>1986-05-16</td>\n",
       "      <td>110</td>\n",
       "      <td>6.9</td>\n",
       "      <td>Tom Cruise</td>\n",
       "      <td>236909</td>\n",
       "      <td>Jim Cash</td>\n",
       "      <td>1986</td>\n",
       "    </tr>\n",
       "    <tr>\n",
       "      <th>3</th>\n",
       "      <td>18500000.0</td>\n",
       "      <td>Twentieth Century Fox Film Corporation</td>\n",
       "      <td>USA</td>\n",
       "      <td>James Cameron</td>\n",
       "      <td>Action</td>\n",
       "      <td>85160248.0</td>\n",
       "      <td>Aliens</td>\n",
       "      <td>R</td>\n",
       "      <td>1986-07-18</td>\n",
       "      <td>137</td>\n",
       "      <td>8.4</td>\n",
       "      <td>Sigourney Weaver</td>\n",
       "      <td>540152</td>\n",
       "      <td>James Cameron</td>\n",
       "      <td>1986</td>\n",
       "    </tr>\n",
       "    <tr>\n",
       "      <th>4</th>\n",
       "      <td>9000000.0</td>\n",
       "      <td>Walt Disney Pictures</td>\n",
       "      <td>USA</td>\n",
       "      <td>Randal Kleiser</td>\n",
       "      <td>Adventure</td>\n",
       "      <td>18564613.0</td>\n",
       "      <td>Flight of the Navigator</td>\n",
       "      <td>PG</td>\n",
       "      <td>1986-08-01</td>\n",
       "      <td>90</td>\n",
       "      <td>6.9</td>\n",
       "      <td>Joey Cramer</td>\n",
       "      <td>36636</td>\n",
       "      <td>Mark H. Baker</td>\n",
       "      <td>1986</td>\n",
       "    </tr>\n",
       "  </tbody>\n",
       "</table>\n",
       "</div>"
      ],
      "text/plain": [
       "       budget                                 company country        director  \\\n",
       "0   8000000.0           Columbia Pictures Corporation     USA      Rob Reiner   \n",
       "1   6000000.0                      Paramount Pictures     USA     John Hughes   \n",
       "2  15000000.0                      Paramount Pictures     USA      Tony Scott   \n",
       "3  18500000.0  Twentieth Century Fox Film Corporation     USA   James Cameron   \n",
       "4   9000000.0                    Walt Disney Pictures     USA  Randal Kleiser   \n",
       "\n",
       "       genre        gross                      name rating    released  \\\n",
       "0  Adventure   52287414.0               Stand by Me      R  1986-08-22   \n",
       "1     Comedy   70136369.0  Ferris Bueller's Day Off  PG-13  1986-06-11   \n",
       "2     Action  179800601.0                   Top Gun     PG  1986-05-16   \n",
       "3     Action   85160248.0                    Aliens      R  1986-07-18   \n",
       "4  Adventure   18564613.0   Flight of the Navigator     PG  1986-08-01   \n",
       "\n",
       "   runtime  score               star   votes         writer  year  \n",
       "0       89    8.1        Wil Wheaton  299174   Stephen King  1986  \n",
       "1      103    7.8  Matthew Broderick  264740    John Hughes  1986  \n",
       "2      110    6.9         Tom Cruise  236909       Jim Cash  1986  \n",
       "3      137    8.4   Sigourney Weaver  540152  James Cameron  1986  \n",
       "4       90    6.9        Joey Cramer   36636  Mark H. Baker  1986  "
      ]
     },
     "execution_count": 26,
     "metadata": {},
     "output_type": "execute_result"
    }
   ],
   "source": [
    "data.head()"
   ]
  },
  {
   "cell_type": "code",
   "execution_count": 27,
   "metadata": {},
   "outputs": [
    {
     "data": {
      "text/html": [
       "<div>\n",
       "<style scoped>\n",
       "    .dataframe tbody tr th:only-of-type {\n",
       "        vertical-align: middle;\n",
       "    }\n",
       "\n",
       "    .dataframe tbody tr th {\n",
       "        vertical-align: top;\n",
       "    }\n",
       "\n",
       "    .dataframe thead th {\n",
       "        text-align: right;\n",
       "    }\n",
       "</style>\n",
       "<table border=\"1\" class=\"dataframe\">\n",
       "  <thead>\n",
       "    <tr style=\"text-align: right;\">\n",
       "      <th></th>\n",
       "      <th>count</th>\n",
       "      <th>mean</th>\n",
       "      <th>std</th>\n",
       "      <th>min</th>\n",
       "      <th>25%</th>\n",
       "      <th>50%</th>\n",
       "      <th>75%</th>\n",
       "      <th>max</th>\n",
       "    </tr>\n",
       "  </thead>\n",
       "  <tbody>\n",
       "    <tr>\n",
       "      <th>budget</th>\n",
       "      <td>6820.0</td>\n",
       "      <td>2.458113e+07</td>\n",
       "      <td>3.702254e+07</td>\n",
       "      <td>0.0</td>\n",
       "      <td>0.00</td>\n",
       "      <td>11000000.0</td>\n",
       "      <td>32000000.00</td>\n",
       "      <td>300000000.0</td>\n",
       "    </tr>\n",
       "    <tr>\n",
       "      <th>gross</th>\n",
       "      <td>6820.0</td>\n",
       "      <td>3.349783e+07</td>\n",
       "      <td>5.819760e+07</td>\n",
       "      <td>70.0</td>\n",
       "      <td>1515839.00</td>\n",
       "      <td>12135679.0</td>\n",
       "      <td>40065340.50</td>\n",
       "      <td>936662225.0</td>\n",
       "    </tr>\n",
       "    <tr>\n",
       "      <th>runtime</th>\n",
       "      <td>6820.0</td>\n",
       "      <td>1.065513e+02</td>\n",
       "      <td>1.802818e+01</td>\n",
       "      <td>50.0</td>\n",
       "      <td>95.00</td>\n",
       "      <td>102.0</td>\n",
       "      <td>115.00</td>\n",
       "      <td>366.0</td>\n",
       "    </tr>\n",
       "    <tr>\n",
       "      <th>score</th>\n",
       "      <td>6820.0</td>\n",
       "      <td>6.374897e+00</td>\n",
       "      <td>1.003142e+00</td>\n",
       "      <td>1.5</td>\n",
       "      <td>5.80</td>\n",
       "      <td>6.4</td>\n",
       "      <td>7.10</td>\n",
       "      <td>9.3</td>\n",
       "    </tr>\n",
       "    <tr>\n",
       "      <th>votes</th>\n",
       "      <td>6820.0</td>\n",
       "      <td>7.121952e+04</td>\n",
       "      <td>1.305176e+05</td>\n",
       "      <td>27.0</td>\n",
       "      <td>7665.25</td>\n",
       "      <td>25892.5</td>\n",
       "      <td>75812.25</td>\n",
       "      <td>1861666.0</td>\n",
       "    </tr>\n",
       "    <tr>\n",
       "      <th>year</th>\n",
       "      <td>6820.0</td>\n",
       "      <td>2.001000e+03</td>\n",
       "      <td>8.944501e+00</td>\n",
       "      <td>1986.0</td>\n",
       "      <td>1993.00</td>\n",
       "      <td>2001.0</td>\n",
       "      <td>2009.00</td>\n",
       "      <td>2016.0</td>\n",
       "    </tr>\n",
       "  </tbody>\n",
       "</table>\n",
       "</div>"
      ],
      "text/plain": [
       "          count          mean           std     min         25%         50%  \\\n",
       "budget   6820.0  2.458113e+07  3.702254e+07     0.0        0.00  11000000.0   \n",
       "gross    6820.0  3.349783e+07  5.819760e+07    70.0  1515839.00  12135679.0   \n",
       "runtime  6820.0  1.065513e+02  1.802818e+01    50.0       95.00       102.0   \n",
       "score    6820.0  6.374897e+00  1.003142e+00     1.5        5.80         6.4   \n",
       "votes    6820.0  7.121952e+04  1.305176e+05    27.0     7665.25     25892.5   \n",
       "year     6820.0  2.001000e+03  8.944501e+00  1986.0     1993.00      2001.0   \n",
       "\n",
       "                 75%          max  \n",
       "budget   32000000.00  300000000.0  \n",
       "gross    40065340.50  936662225.0  \n",
       "runtime       115.00        366.0  \n",
       "score           7.10          9.3  \n",
       "votes       75812.25    1861666.0  \n",
       "year         2009.00       2016.0  "
      ]
     },
     "execution_count": 27,
     "metadata": {},
     "output_type": "execute_result"
    }
   ],
   "source": [
    "data.describe().T"
   ]
  },
  {
   "cell_type": "markdown",
   "metadata": {},
   "source": [
    "# Braki danych"
   ]
  },
  {
   "cell_type": "code",
   "execution_count": 28,
   "metadata": {},
   "outputs": [
    {
     "name": "stdout",
     "output_type": "stream",
     "text": [
      "          Brakujące dane:\n",
      "budget                  0\n",
      "company                 0\n",
      "country                 0\n",
      "director                0\n",
      "genre                   0\n",
      "gross                   0\n",
      "name                    0\n",
      "rating                  0\n",
      "released                0\n",
      "runtime                 0\n",
      "score                   0\n",
      "star                    0\n",
      "votes                   0\n",
      "writer                  0\n",
      "year                    0\n"
     ]
    }
   ],
   "source": [
    "braki_danych = pd.concat([data.isnull().sum()], axis = 1, keys = [\"Brakujące dane:\"])\n",
    "print(braki_danych)"
   ]
  },
  {
   "cell_type": "code",
   "execution_count": 29,
   "metadata": {},
   "outputs": [
    {
     "name": "stdout",
     "output_type": "stream",
     "text": [
      "budget min = 0.0 & budget max = 300000000.0\n",
      "gross min = 70.0 & gross max = 936662225.0\n",
      "runtime min = 50 & runtime max = 366\n",
      "score min = 1.5 & score max = 9.3\n",
      "votes min = 27 & votes max = 1861666\n",
      "year min = 1986 & year max = 2016\n"
     ]
    }
   ],
   "source": [
    "for i in ['budget', 'gross', 'runtime', 'score', 'votes', 'year']:\n",
    "    print(i, 'min =', data[i].min(), '&', i, 'max =', data[i].max())"
   ]
  },
  {
   "cell_type": "code",
   "execution_count": 30,
   "metadata": {},
   "outputs": [
    {
     "data": {
      "text/plain": [
       "0"
      ]
     },
     "execution_count": 30,
     "metadata": {},
     "output_type": "execute_result"
    }
   ],
   "source": [
    "data.duplicated().sum()"
   ]
  },
  {
   "cell_type": "markdown",
   "metadata": {},
   "source": [
    "W danym zbiorze danych nie ma braków. "
   ]
  },
  {
   "cell_type": "markdown",
   "metadata": {},
   "source": [
    "# Czyszczenie danych"
   ]
  },
  {
   "cell_type": "code",
   "execution_count": 31,
   "metadata": {},
   "outputs": [
    {
     "data": {
      "text/plain": [
       "2182"
      ]
     },
     "execution_count": 31,
     "metadata": {},
     "output_type": "execute_result"
    }
   ],
   "source": [
    "# Wartość 0 znajduje się w 2182 obserwacjach w budżecie. - zmiana na proporcjonalne do przychodu\n",
    "\n",
    "len(data[data['budget']==0])"
   ]
  },
  {
   "cell_type": "code",
   "execution_count": 32,
   "metadata": {},
   "outputs": [],
   "source": [
    "data[\"budget\"].replace(0, inplace = True)\n",
    "data[\"budget\"].fillna(data[\"budget\"].sum() / data[\"gross\"].sum() * data[\"gross\"], inplace=True)"
   ]
  },
  {
   "cell_type": "code",
   "execution_count": 33,
   "metadata": {},
   "outputs": [
    {
     "data": {
      "text/plain": [
       "308"
      ]
     },
     "execution_count": 33,
     "metadata": {},
     "output_type": "execute_result"
    }
   ],
   "source": [
    "# Zmienna rating ma 308 pozycji: NOT RATED, UNRATED or Not Specified - zmiana na UNRATED\n",
    "\n",
    "len(data[data[\"rating\"] == \"NOT RATED\"]) + len(data[data[\"rating\"] == \"UNRATED\"]) + len(data[data[\"rating\"] == \"Not specified\"])"
   ]
  },
  {
   "cell_type": "code",
   "execution_count": 34,
   "metadata": {},
   "outputs": [],
   "source": [
    "data[\"rating\"] = pd.DataFrame(data[\"rating\"].replace(\n",
    "{'NOT RATED':'UNRATED', 'Not specified' : 'UNRATED'}))"
   ]
  },
  {
   "cell_type": "code",
   "execution_count": 35,
   "metadata": {},
   "outputs": [
    {
     "data": {
      "text/plain": [
       "R          3392\n",
       "PG-13      1995\n",
       "PG          951\n",
       "UNRATED     308\n",
       "G           147\n",
       "NC-17        22\n",
       "TV-PG         1\n",
       "B15           1\n",
       "B             1\n",
       "TV-MA         1\n",
       "TV-14         1\n",
       "Name: rating, dtype: int64"
      ]
     },
     "execution_count": 35,
     "metadata": {},
     "output_type": "execute_result"
    }
   ],
   "source": [
    "data[\"rating\"].value_counts()"
   ]
  },
  {
   "cell_type": "markdown",
   "metadata": {},
   "source": [
    "# Zmienna runtime"
   ]
  },
  {
   "cell_type": "code",
   "execution_count": 36,
   "metadata": {},
   "outputs": [
    {
     "data": {
      "text/html": [
       "<div>\n",
       "<style scoped>\n",
       "    .dataframe tbody tr th:only-of-type {\n",
       "        vertical-align: middle;\n",
       "    }\n",
       "\n",
       "    .dataframe tbody tr th {\n",
       "        vertical-align: top;\n",
       "    }\n",
       "\n",
       "    .dataframe thead th {\n",
       "        text-align: right;\n",
       "    }\n",
       "</style>\n",
       "<table border=\"1\" class=\"dataframe\">\n",
       "  <thead>\n",
       "    <tr style=\"text-align: right;\">\n",
       "      <th></th>\n",
       "      <th>budget</th>\n",
       "      <th>company</th>\n",
       "      <th>country</th>\n",
       "      <th>director</th>\n",
       "      <th>genre</th>\n",
       "      <th>gross</th>\n",
       "      <th>name</th>\n",
       "      <th>rating</th>\n",
       "      <th>released</th>\n",
       "      <th>runtime</th>\n",
       "      <th>score</th>\n",
       "      <th>star</th>\n",
       "      <th>votes</th>\n",
       "      <th>writer</th>\n",
       "      <th>year</th>\n",
       "    </tr>\n",
       "  </thead>\n",
       "  <tbody>\n",
       "    <tr>\n",
       "      <th>2193</th>\n",
       "      <td>22000000.0</td>\n",
       "      <td>Iwerks Entertainment</td>\n",
       "      <td>France</td>\n",
       "      <td>Jean-Jacques Annaud</td>\n",
       "      <td>Adventure</td>\n",
       "      <td>15054389.0</td>\n",
       "      <td>Wings of Courage</td>\n",
       "      <td>G</td>\n",
       "      <td>1996-09-18</td>\n",
       "      <td>50</td>\n",
       "      <td>6.5</td>\n",
       "      <td>Craig Sheffer</td>\n",
       "      <td>537</td>\n",
       "      <td>Alain Godard</td>\n",
       "      <td>1995</td>\n",
       "    </tr>\n",
       "    <tr>\n",
       "      <th>2692</th>\n",
       "      <td>6000.0</td>\n",
       "      <td>Next Wave Films</td>\n",
       "      <td>UK</td>\n",
       "      <td>Christopher Nolan</td>\n",
       "      <td>Crime</td>\n",
       "      <td>48482.0</td>\n",
       "      <td>Following</td>\n",
       "      <td>R</td>\n",
       "      <td>1999-11-05</td>\n",
       "      <td>69</td>\n",
       "      <td>7.6</td>\n",
       "      <td>Jeremy Theobald</td>\n",
       "      <td>72113</td>\n",
       "      <td>Christopher Nolan</td>\n",
       "      <td>1998</td>\n",
       "    </tr>\n",
       "    <tr>\n",
       "      <th>464</th>\n",
       "      <td>12500000.0</td>\n",
       "      <td>Universal Pictures</td>\n",
       "      <td>USA</td>\n",
       "      <td>Don Bluth</td>\n",
       "      <td>Animation</td>\n",
       "      <td>48092846.0</td>\n",
       "      <td>The Land Before Time</td>\n",
       "      <td>G</td>\n",
       "      <td>1988-11-18</td>\n",
       "      <td>69</td>\n",
       "      <td>7.4</td>\n",
       "      <td>Pat Hingle</td>\n",
       "      <td>66623</td>\n",
       "      <td>Stu Krieger</td>\n",
       "      <td>1988</td>\n",
       "    </tr>\n",
       "    <tr>\n",
       "      <th>1471</th>\n",
       "      <td>5000000.0</td>\n",
       "      <td>Hyperion Pictures</td>\n",
       "      <td>USA</td>\n",
       "      <td>Bruce W. Smith</td>\n",
       "      <td>Animation</td>\n",
       "      <td>8442162.0</td>\n",
       "      <td>Bébé's Kids</td>\n",
       "      <td>PG-13</td>\n",
       "      <td>1992-07-31</td>\n",
       "      <td>70</td>\n",
       "      <td>5.5</td>\n",
       "      <td>Faizon Love</td>\n",
       "      <td>3387</td>\n",
       "      <td>Robin Harris</td>\n",
       "      <td>1992</td>\n",
       "    </tr>\n",
       "    <tr>\n",
       "      <th>4009</th>\n",
       "      <td>75000000.0</td>\n",
       "      <td>Revolution Films</td>\n",
       "      <td>UK</td>\n",
       "      <td>Michael Winterbottom</td>\n",
       "      <td>Drama</td>\n",
       "      <td>49835.0</td>\n",
       "      <td>9 Songs</td>\n",
       "      <td>UNRATED</td>\n",
       "      <td>2005-03-11</td>\n",
       "      <td>71</td>\n",
       "      <td>4.9</td>\n",
       "      <td>Kieran O'Brien</td>\n",
       "      <td>18981</td>\n",
       "      <td>Revolution Films</td>\n",
       "      <td>2004</td>\n",
       "    </tr>\n",
       "    <tr>\n",
       "      <th>...</th>\n",
       "      <td>...</td>\n",
       "      <td>...</td>\n",
       "      <td>...</td>\n",
       "      <td>...</td>\n",
       "      <td>...</td>\n",
       "      <td>...</td>\n",
       "      <td>...</td>\n",
       "      <td>...</td>\n",
       "      <td>...</td>\n",
       "      <td>...</td>\n",
       "      <td>...</td>\n",
       "      <td>...</td>\n",
       "      <td>...</td>\n",
       "      <td>...</td>\n",
       "      <td>...</td>\n",
       "    </tr>\n",
       "    <tr>\n",
       "      <th>2248</th>\n",
       "      <td>18000000.0</td>\n",
       "      <td>Castle Rock Entertainment</td>\n",
       "      <td>UK</td>\n",
       "      <td>Kenneth Branagh</td>\n",
       "      <td>Drama</td>\n",
       "      <td>4414535.0</td>\n",
       "      <td>Hamlet</td>\n",
       "      <td>PG-13</td>\n",
       "      <td>1996-12-25</td>\n",
       "      <td>242</td>\n",
       "      <td>7.8</td>\n",
       "      <td>Kenneth Branagh</td>\n",
       "      <td>32078</td>\n",
       "      <td>William Shakespeare</td>\n",
       "      <td>1996</td>\n",
       "    </tr>\n",
       "    <tr>\n",
       "      <th>1587</th>\n",
       "      <td>25000000.0</td>\n",
       "      <td>TriStar Television</td>\n",
       "      <td>USA</td>\n",
       "      <td>Ron Maxwell</td>\n",
       "      <td>Drama</td>\n",
       "      <td>10769960.0</td>\n",
       "      <td>Gettysburg</td>\n",
       "      <td>PG</td>\n",
       "      <td>1993-10-08</td>\n",
       "      <td>271</td>\n",
       "      <td>7.7</td>\n",
       "      <td>Tom Berenger</td>\n",
       "      <td>22949</td>\n",
       "      <td>Michael Shaara</td>\n",
       "      <td>1993</td>\n",
       "    </tr>\n",
       "    <tr>\n",
       "      <th>1190</th>\n",
       "      <td>23000000.0</td>\n",
       "      <td>Argos Films</td>\n",
       "      <td>Germany</td>\n",
       "      <td>Wim Wenders</td>\n",
       "      <td>Action</td>\n",
       "      <td>752856.0</td>\n",
       "      <td>Until the End of the World</td>\n",
       "      <td>R</td>\n",
       "      <td>1991-12-25</td>\n",
       "      <td>280</td>\n",
       "      <td>6.8</td>\n",
       "      <td>William Hurt</td>\n",
       "      <td>7344</td>\n",
       "      <td>Peter Carey</td>\n",
       "      <td>1991</td>\n",
       "    </tr>\n",
       "    <tr>\n",
       "      <th>395</th>\n",
       "      <td>1100000.0</td>\n",
       "      <td>Sands</td>\n",
       "      <td>UK</td>\n",
       "      <td>Christine Edzard</td>\n",
       "      <td>Drama</td>\n",
       "      <td>1025228.0</td>\n",
       "      <td>Little Dorrit</td>\n",
       "      <td>G</td>\n",
       "      <td>1988-10-21</td>\n",
       "      <td>357</td>\n",
       "      <td>7.5</td>\n",
       "      <td>Derek Jacobi</td>\n",
       "      <td>886</td>\n",
       "      <td>Charles Dickens</td>\n",
       "      <td>1987</td>\n",
       "    </tr>\n",
       "    <tr>\n",
       "      <th>3890</th>\n",
       "      <td>17000000.0</td>\n",
       "      <td>BiBi Film</td>\n",
       "      <td>Italy</td>\n",
       "      <td>Marco Tullio Giordana</td>\n",
       "      <td>Drama</td>\n",
       "      <td>254224.0</td>\n",
       "      <td>The Best of Youth</td>\n",
       "      <td>R</td>\n",
       "      <td>2003-06-20</td>\n",
       "      <td>366</td>\n",
       "      <td>8.5</td>\n",
       "      <td>Luigi Lo Cascio</td>\n",
       "      <td>17585</td>\n",
       "      <td>Sandro Petraglia</td>\n",
       "      <td>2003</td>\n",
       "    </tr>\n",
       "  </tbody>\n",
       "</table>\n",
       "<p>6820 rows × 15 columns</p>\n",
       "</div>"
      ],
      "text/plain": [
       "          budget                    company  country               director  \\\n",
       "2193  22000000.0       Iwerks Entertainment   France    Jean-Jacques Annaud   \n",
       "2692      6000.0            Next Wave Films       UK      Christopher Nolan   \n",
       "464   12500000.0         Universal Pictures      USA              Don Bluth   \n",
       "1471   5000000.0          Hyperion Pictures      USA         Bruce W. Smith   \n",
       "4009  75000000.0           Revolution Films       UK   Michael Winterbottom   \n",
       "...          ...                        ...      ...                    ...   \n",
       "2248  18000000.0  Castle Rock Entertainment       UK        Kenneth Branagh   \n",
       "1587  25000000.0         TriStar Television      USA            Ron Maxwell   \n",
       "1190  23000000.0                Argos Films  Germany            Wim Wenders   \n",
       "395    1100000.0                      Sands       UK       Christine Edzard   \n",
       "3890  17000000.0                  BiBi Film    Italy  Marco Tullio Giordana   \n",
       "\n",
       "          genre       gross                        name   rating    released  \\\n",
       "2193  Adventure  15054389.0            Wings of Courage        G  1996-09-18   \n",
       "2692      Crime     48482.0                   Following        R  1999-11-05   \n",
       "464   Animation  48092846.0        The Land Before Time        G  1988-11-18   \n",
       "1471  Animation   8442162.0                 Bébé's Kids    PG-13  1992-07-31   \n",
       "4009      Drama     49835.0                     9 Songs  UNRATED  2005-03-11   \n",
       "...         ...         ...                         ...      ...         ...   \n",
       "2248      Drama   4414535.0                      Hamlet    PG-13  1996-12-25   \n",
       "1587      Drama  10769960.0                  Gettysburg       PG  1993-10-08   \n",
       "1190     Action    752856.0  Until the End of the World        R  1991-12-25   \n",
       "395       Drama   1025228.0               Little Dorrit        G  1988-10-21   \n",
       "3890      Drama    254224.0           The Best of Youth        R  2003-06-20   \n",
       "\n",
       "      runtime  score             star  votes               writer  year  \n",
       "2193       50    6.5    Craig Sheffer    537         Alain Godard  1995  \n",
       "2692       69    7.6  Jeremy Theobald  72113    Christopher Nolan  1998  \n",
       "464        69    7.4       Pat Hingle  66623          Stu Krieger  1988  \n",
       "1471       70    5.5      Faizon Love   3387         Robin Harris  1992  \n",
       "4009       71    4.9   Kieran O'Brien  18981     Revolution Films  2004  \n",
       "...       ...    ...              ...    ...                  ...   ...  \n",
       "2248      242    7.8  Kenneth Branagh  32078  William Shakespeare  1996  \n",
       "1587      271    7.7     Tom Berenger  22949       Michael Shaara  1993  \n",
       "1190      280    6.8     William Hurt   7344          Peter Carey  1991  \n",
       "395       357    7.5     Derek Jacobi    886      Charles Dickens  1987  \n",
       "3890      366    8.5  Luigi Lo Cascio  17585     Sandro Petraglia  2003  \n",
       "\n",
       "[6820 rows x 15 columns]"
      ]
     },
     "execution_count": 36,
     "metadata": {},
     "output_type": "execute_result"
    }
   ],
   "source": [
    "data.sort_values(by = [\"runtime\"], ascending=True, inplace=False, kind='quicksort', ignore_index=False, key=None)"
   ]
  },
  {
   "cell_type": "code",
   "execution_count": 37,
   "metadata": {},
   "outputs": [],
   "source": [
    "#Pogrupowane dane"
   ]
  },
  {
   "cell_type": "code",
   "execution_count": 46,
   "metadata": {},
   "outputs": [],
   "source": [
    "conditions = [(data['runtime'] <= 90), \n",
    "              (data['runtime'] > 90) & (data['runtime'] <= 120),\n",
    "              (data['runtime'] > 120) & (data['runtime'] <= 150),\n",
    "              (data['runtime'] > 150)]\n",
    "values = ['do 90min', 'od 90 do 120', 'od 120 do 150', \"powyżej 150\"]\n",
    "data['runtimeHour'] = np.select(conditions, values)\n",
    "runtimehour = data[\"runtimeHour\"].value_counts().to_frame()"
   ]
  },
  {
   "cell_type": "code",
   "execution_count": 54,
   "metadata": {},
   "outputs": [
    {
     "data": {
      "image/png": "[encoded data removed]",
      "text/plain": [
       "<Figure size 1008x1008 with 1 Axes>"
      ]
     },
     "metadata": {},
     "output_type": "display_data"
    }
   ],
   "source": [
    "colors = [\"lime\",\"aqua\", \"lightpink\",\"palevioletred\"]\n",
    "plt.pie(runtimehour[\"runtimeHour\"], labels = runtimehour.axes[0], colors = colors, shadow = \"True\", startangle =10)\n",
    "plt.title(\"Rozkład czasu trwania filmów\")\n",
    "plt.legend(loc = \"upper left\")\n",
    "plt.axis(\"equal\")\n",
    "plt.plot()\n",
    "wykres= plt.gcf()\n",
    "wykres.set_size_inches(14,14)"
   ]
  },
  {
   "cell_type": "markdown",
   "metadata": {},
   "source": [
    "# Zmienna score"
   ]
  },
  {
   "cell_type": "code",
   "execution_count": null,
   "metadata": {},
   "outputs": [],
   "source": [
    "#posortować jak wyżej"
   ]
  },
  {
   "cell_type": "code",
   "execution_count": 41,
   "metadata": {},
   "outputs": [],
   "source": [
    "#pogrupować (np. funkcja round)"
   ]
  },
  {
   "cell_type": "code",
   "execution_count": null,
   "metadata": {},
   "outputs": [],
   "source": [
    "#krzywa Gaussa"
   ]
  },
  {
   "cell_type": "code",
   "execution_count": 42,
   "metadata": {},
   "outputs": [],
   "source": [
    "#zrobić wykres"
   ]
  },
  {
   "cell_type": "markdown",
   "metadata": {},
   "source": [
    "# Zmienna gross/budget"
   ]
  },
  {
   "cell_type": "code",
   "execution_count": 43,
   "metadata": {},
   "outputs": [],
   "source": [
    "#pogrupować gross i budget np ze względu na index albo nazwe"
   ]
  },
  {
   "cell_type": "markdown",
   "metadata": {},
   "source": [
    "# Zmienna genre"
   ]
  },
  {
   "cell_type": "code",
   "execution_count": 312,
   "metadata": {},
   "outputs": [
    {
     "data": {
      "text/plain": [
       "<AxesSubplot:>"
      ]
     },
     "execution_count": 312,
     "metadata": {},
     "output_type": "execute_result"
    },
    {
     "data": {
      "image/png": "[encoded data removed]",
      "text/plain": [
       "<Figure size 432x288 with 1 Axes>"
      ]
     },
     "metadata": {
      "needs_background": "light"
     },
     "output_type": "display_data"
    }
   ],
   "source": [
    "data[\"genre\"].value_counts().plot(kind='bar')"
   ]
  },
  {
   "cell_type": "markdown",
   "metadata": {},
   "source": [
    "# Zmienna country"
   ]
  },
  {
   "cell_type": "code",
   "execution_count": 313,
   "metadata": {},
   "outputs": [
    {
     "data": {
      "text/plain": [
       "USA                               4872\n",
       "UK                                 698\n",
       "France                             283\n",
       "Canada                             150\n",
       "Germany                            134\n",
       "Australia                           82\n",
       "Japan                               68\n",
       "Spain                               56\n",
       "Italy                               51\n",
       "Ireland                             44\n",
       "India                               39\n",
       "Hong Kong                           39\n",
       "Denmark                             33\n",
       "China                               24\n",
       "South Korea                         20\n",
       "Belgium                             18\n",
       "Sweden                              18\n",
       "New Zealand                         18\n",
       "Mexico                              15\n",
       "Argentina                           13\n",
       "Iran                                12\n",
       "Netherlands                         12\n",
       "Russia                              10\n",
       "South Africa                         9\n",
       "Czech Republic                       8\n",
       "Taiwan                               8\n",
       "Norway                               8\n",
       "Hungary                              7\n",
       "Brazil                               6\n",
       "Switzerland                          6\n",
       "Austria                              6\n",
       "Israel                               5\n",
       "Greece                               5\n",
       "Romania                              5\n",
       "Chile                                4\n",
       "West Germany                         4\n",
       "Finland                              3\n",
       "Thailand                             3\n",
       "Peru                                 2\n",
       "Poland                               2\n",
       "Portugal                             2\n",
       "Indonesia                            2\n",
       "Colombia                             2\n",
       "Soviet Union                         1\n",
       "Ukraine                              1\n",
       "Iceland                              1\n",
       "Jamaica                              1\n",
       "Federal Republic of Yugoslavia       1\n",
       "Kenya                                1\n",
       "Aruba                                1\n",
       "Bahamas                              1\n",
       "Panama                               1\n",
       "Republic of Macedonia                1\n",
       "Palestine                            1\n",
       "Saudi Arabia                         1\n",
       "Cuba                                 1\n",
       "Malta                                1\n",
       "Name: country, dtype: int64"
      ]
     },
     "execution_count": 313,
     "metadata": {},
     "output_type": "execute_result"
    }
   ],
   "source": [
    "data[\"country\"].value_counts()"
   ]
  },
  {
   "cell_type": "code",
   "execution_count": 46,
   "metadata": {},
   "outputs": [],
   "source": [
    "data[\"country\"] = pd.DataFrame(data[\"country\"].replace(\n",
    "{'West Germany':'Germany', 'Hong Kong' : 'China', 'Soviet Union':'Russia'}))"
   ]
  },
  {
   "cell_type": "markdown",
   "metadata": {},
   "source": [
    "5 krajów z największą ilością filmów w danym zbiorze"
   ]
  },
  {
   "cell_type": "code",
   "execution_count": 47,
   "metadata": {},
   "outputs": [],
   "source": [
    "top_5_country = data[\"country\"].value_counts().head(5).to_frame()"
   ]
  },
  {
   "cell_type": "code",
   "execution_count": 48,
   "metadata": {},
   "outputs": [
    {
     "data": {
      "image/png": "[encoded data removed]",
      "text/plain": [
       "<Figure size 864x864 with 1 Axes>"
      ]
     },
     "metadata": {},
     "output_type": "display_data"
    }
   ],
   "source": [
    "colors = [\"lightpink\",\"palevioletred\", \"dodgerblue\", \"paleturquoise\", \"palegreen\"]\n",
    "plt.pie(top_5_country[\"country\"], labels = top_5_country.axes[0], colors = colors, shadow = \"True\", startangle =60)\n",
    "plt.title(\"5 krajów z największą ilością filmów\")\n",
    "plt.legend(loc = \"upper left\")\n",
    "plt.plot()\n",
    "wykres= plt.gcf()\n",
    "wykres.set_size_inches(12,12)"
   ]
  },
  {
   "cell_type": "markdown",
   "metadata": {},
   "source": [
    "# Zmienna continents"
   ]
  },
  {
   "cell_type": "code",
   "execution_count": 49,
   "metadata": {},
   "outputs": [
    {
     "data": {
      "text/plain": [
       "North America    5041\n",
       "Europe           1408\n",
       "Asia              222\n",
       "Australia         100\n",
       "South America      28\n",
       "Eurasia            11\n",
       "Africa             10\n",
       "Name: continents, dtype: int64"
      ]
     },
     "execution_count": 49,
     "metadata": {},
     "output_type": "execute_result"
    }
   ],
   "source": [
    "#Podzielone na kontynenty\n",
    "data[\"continents\"]= pd.DataFrame(data[\"country\"].replace(\n",
    "{\"Japan\":\"Asia\", \"China\":\"Asia\", \"India\":\"Asia\", \"South Korea\":\"Asia\", \"Taiwan\":\"Asia\",\"Thailand\":\"Asia\",\"Indonesia\":\"Asia\",\n",
    "\"Saudi Arabia\":\"Asia\", \"Palestine\":\"Asia\",  \"Iran\":\"Asia\", \"Israel\":\"Asia\",\"UK\":\"Europe\", \"France\":\"Europe\", \"Germany\":\"Europe\",\n",
    "\"Spain\":\"Europe\", \"Italy\":\"Europe\", \"Ireland\":\"Europe\", \"Denmark\":\"Europe\", \"Belgium\":\"Europe\", \"Sweden\":\"Europe\", \n",
    "\"Netherlands\":\"Europe\", \"Czech Republic\":\"Europe\", \"Norway\":\"Europe\", \"Hungary\":\"Europe\", \"Austria\":\"Europe\", \n",
    "\"Switzerland\":\"Europe\", \"Greece\":\"Europe\", \"Romania\":\"Europe\", \"Finland\":\"Europe\", \"Portugal\":\"Europe\", \"Poland\":\"Europe\",\n",
    "\"Ukraine\":\"Europe\", \"Republic of Macedonia\":\"Europe\", \"Iceland\":\"Europe\", \"Malta\":\"Europe\", \n",
    "\"Federal Republic of Yugoslavia\":\"Europe\", \"USA\":\"North America\", \"Canada\":\"North America\", \"Mexico\":\"North America\",\n",
    "\"Panama\":\"North America\", \"Jamaica\":\"North America\", \"Cuba\":\"North America\", \"Bahamas\":\"North America\", \"Aruba\":\"South America\",\n",
    "\"Peru\":\"South America\", \"Colombia\":\"South America\", \"Chile\":\"South America\", \"Brazil\": \"South America\", \"Argentina\":\"South America\",\n",
    "\"New Zealand\":\"Australia\", \"Kenya\":\"Africa\", \"South Africa\":\"Africa\", \"Russia\":\"Eurasia\"}))\n",
    "data[\"continents\"].value_counts()"
   ]
  },
  {
   "cell_type": "code",
   "execution_count": 50,
   "metadata": {},
   "outputs": [],
   "source": [
    "data['continents'] = data['continents'].astype(str) "
   ]
  },
  {
   "cell_type": "code",
   "execution_count": 53,
   "metadata": {},
   "outputs": [],
   "source": [
    "kontynenty = data[\"continents\"].value_counts().to_frame()"
   ]
  },
  {
   "cell_type": "code",
   "execution_count": 89,
   "metadata": {},
   "outputs": [
    {
     "data": {
      "image/png": "[encoded data removed]",
      "text/plain": [
       "<Figure size 1008x1008 with 1 Axes>"
      ]
     },
     "metadata": {},
     "output_type": "display_data"
    }
   ],
   "source": [
    "colors = [\"mediumturquoise\",\"dodgerblue\",\"lime\", \"lightpink\",\"palevioletred\", \"firebrick\", \"aqua\"]\n",
    "plt.pie(kontynenty[\"continents\"], labels = kontynenty.axes[0], colors = colors, shadow = \"True\", startangle =10, explode = [0,0,0,0.1,0.25,0.4,0.6])\n",
    "plt.title(\"5 krajów z największą ilością filmów\")\n",
    "plt.legend(loc = \"upper left\")\n",
    "plt.axis(\"equal\")\n",
    "plt.plot()\n",
    "wykres= plt.gcf()\n",
    "wykres.set_size_inches(14,14)"
   ]
  },
  {
   "cell_type": "code",
   "execution_count": null,
   "metadata": {},
   "outputs": [],
   "source": []
  },
  {
   "cell_type": "markdown",
   "metadata": {},
   "source": [
    "# Hipoteza 1: Dramaty są oceniane lepiej niż horrory. "
   ]
  },
  {
   "cell_type": "code",
   "execution_count": 319,
   "metadata": {},
   "outputs": [
    {
     "data": {
      "text/html": [
       "<div>\n",
       "<style scoped>\n",
       "    .dataframe tbody tr th:only-of-type {\n",
       "        vertical-align: middle;\n",
       "    }\n",
       "\n",
       "    .dataframe tbody tr th {\n",
       "        vertical-align: top;\n",
       "    }\n",
       "\n",
       "    .dataframe thead th {\n",
       "        text-align: right;\n",
       "    }\n",
       "</style>\n",
       "<table border=\"1\" class=\"dataframe\">\n",
       "  <thead>\n",
       "    <tr style=\"text-align: right;\">\n",
       "      <th></th>\n",
       "      <th>budget</th>\n",
       "      <th>company</th>\n",
       "      <th>country</th>\n",
       "      <th>director</th>\n",
       "      <th>genre</th>\n",
       "      <th>gross</th>\n",
       "      <th>name</th>\n",
       "      <th>rating</th>\n",
       "      <th>released</th>\n",
       "      <th>runtime</th>\n",
       "      <th>score</th>\n",
       "      <th>star</th>\n",
       "      <th>votes</th>\n",
       "      <th>writer</th>\n",
       "      <th>year</th>\n",
       "      <th>continents</th>\n",
       "    </tr>\n",
       "  </thead>\n",
       "  <tbody>\n",
       "    <tr>\n",
       "      <th>5</th>\n",
       "      <td>6000000.0</td>\n",
       "      <td>Hemdale</td>\n",
       "      <td>UK</td>\n",
       "      <td>Oliver Stone</td>\n",
       "      <td>Drama</td>\n",
       "      <td>138530565.0</td>\n",
       "      <td>Platoon</td>\n",
       "      <td>R</td>\n",
       "      <td>1987-02-06</td>\n",
       "      <td>120</td>\n",
       "      <td>8.1</td>\n",
       "      <td>Charlie Sheen</td>\n",
       "      <td>317585</td>\n",
       "      <td>Oliver Stone</td>\n",
       "      <td>1986</td>\n",
       "      <td>Europe</td>\n",
       "    </tr>\n",
       "    <tr>\n",
       "      <th>7</th>\n",
       "      <td>6000000.0</td>\n",
       "      <td>De Laurentiis Entertainment Group (DEG)</td>\n",
       "      <td>USA</td>\n",
       "      <td>David Lynch</td>\n",
       "      <td>Drama</td>\n",
       "      <td>8551228.0</td>\n",
       "      <td>Blue Velvet</td>\n",
       "      <td>R</td>\n",
       "      <td>1986-10-23</td>\n",
       "      <td>120</td>\n",
       "      <td>7.8</td>\n",
       "      <td>Isabella Rossellini</td>\n",
       "      <td>146768</td>\n",
       "      <td>David Lynch</td>\n",
       "      <td>1986</td>\n",
       "      <td>North America</td>\n",
       "    </tr>\n",
       "    <tr>\n",
       "      <th>9</th>\n",
       "      <td>15000000.0</td>\n",
       "      <td>SLM Production Group</td>\n",
       "      <td>USA</td>\n",
       "      <td>David Cronenberg</td>\n",
       "      <td>Drama</td>\n",
       "      <td>40456565.0</td>\n",
       "      <td>The Fly</td>\n",
       "      <td>R</td>\n",
       "      <td>1986-08-15</td>\n",
       "      <td>96</td>\n",
       "      <td>7.5</td>\n",
       "      <td>Jeff Goldblum</td>\n",
       "      <td>129698</td>\n",
       "      <td>George Langelaan</td>\n",
       "      <td>1986</td>\n",
       "      <td>North America</td>\n",
       "    </tr>\n",
       "    <tr>\n",
       "      <th>15</th>\n",
       "      <td>17000000.0</td>\n",
       "      <td>Producers Sales Organization (PSO)</td>\n",
       "      <td>USA</td>\n",
       "      <td>Adrian Lyne</td>\n",
       "      <td>Drama</td>\n",
       "      <td>6734844.0</td>\n",
       "      <td>9½ Weeks</td>\n",
       "      <td>R</td>\n",
       "      <td>1986-02-21</td>\n",
       "      <td>117</td>\n",
       "      <td>5.9</td>\n",
       "      <td>Mickey Rourke</td>\n",
       "      <td>31798</td>\n",
       "      <td>Elizabeth McNeill</td>\n",
       "      <td>1986</td>\n",
       "      <td>North America</td>\n",
       "    </tr>\n",
       "    <tr>\n",
       "      <th>32</th>\n",
       "      <td>25000000.0</td>\n",
       "      <td>Gaumont</td>\n",
       "      <td>France</td>\n",
       "      <td>Jean-Jacques Beineix</td>\n",
       "      <td>Drama</td>\n",
       "      <td>2003822.0</td>\n",
       "      <td>Betty Blue</td>\n",
       "      <td>UNRATED</td>\n",
       "      <td>1986-11-07</td>\n",
       "      <td>120</td>\n",
       "      <td>7.4</td>\n",
       "      <td>Jean-Hugues Anglade</td>\n",
       "      <td>14562</td>\n",
       "      <td>Philippe Djian</td>\n",
       "      <td>1986</td>\n",
       "      <td>Europe</td>\n",
       "    </tr>\n",
       "    <tr>\n",
       "      <th>...</th>\n",
       "      <td>...</td>\n",
       "      <td>...</td>\n",
       "      <td>...</td>\n",
       "      <td>...</td>\n",
       "      <td>...</td>\n",
       "      <td>...</td>\n",
       "      <td>...</td>\n",
       "      <td>...</td>\n",
       "      <td>...</td>\n",
       "      <td>...</td>\n",
       "      <td>...</td>\n",
       "      <td>...</td>\n",
       "      <td>...</td>\n",
       "      <td>...</td>\n",
       "      <td>...</td>\n",
       "      <td>...</td>\n",
       "    </tr>\n",
       "    <tr>\n",
       "      <th>6807</th>\n",
       "      <td>4000000.0</td>\n",
       "      <td>Blumhouse Productions</td>\n",
       "      <td>USA</td>\n",
       "      <td>Greg McLean</td>\n",
       "      <td>Horror</td>\n",
       "      <td>10732841.0</td>\n",
       "      <td>The Darkness</td>\n",
       "      <td>PG-13</td>\n",
       "      <td>2016-05-13</td>\n",
       "      <td>92</td>\n",
       "      <td>4.4</td>\n",
       "      <td>Kevin Bacon</td>\n",
       "      <td>9450</td>\n",
       "      <td>Greg McLean</td>\n",
       "      <td>2016</td>\n",
       "      <td>North America</td>\n",
       "    </tr>\n",
       "    <tr>\n",
       "      <th>6812</th>\n",
       "      <td>8500000.0</td>\n",
       "      <td>Killer Films</td>\n",
       "      <td>USA</td>\n",
       "      <td>Andrew Neel</td>\n",
       "      <td>Drama</td>\n",
       "      <td>23020.0</td>\n",
       "      <td>Goat</td>\n",
       "      <td>R</td>\n",
       "      <td>2016-09-23</td>\n",
       "      <td>96</td>\n",
       "      <td>5.7</td>\n",
       "      <td>Ben Schnetzer</td>\n",
       "      <td>4439</td>\n",
       "      <td>David Gordon Green</td>\n",
       "      <td>2016</td>\n",
       "      <td>North America</td>\n",
       "    </tr>\n",
       "    <tr>\n",
       "      <th>6816</th>\n",
       "      <td>20000000.0</td>\n",
       "      <td>Siempre Viva Productions</td>\n",
       "      <td>USA</td>\n",
       "      <td>Paul Duddridge</td>\n",
       "      <td>Drama</td>\n",
       "      <td>28368.0</td>\n",
       "      <td>Mothers and Daughters</td>\n",
       "      <td>PG-13</td>\n",
       "      <td>2016-05-06</td>\n",
       "      <td>90</td>\n",
       "      <td>4.9</td>\n",
       "      <td>Selma Blair</td>\n",
       "      <td>1959</td>\n",
       "      <td>Paige Cameron</td>\n",
       "      <td>2016</td>\n",
       "      <td>North America</td>\n",
       "    </tr>\n",
       "    <tr>\n",
       "      <th>6818</th>\n",
       "      <td>3500000.0</td>\n",
       "      <td>Borderline Presents</td>\n",
       "      <td>USA</td>\n",
       "      <td>Nicolas Pesce</td>\n",
       "      <td>Drama</td>\n",
       "      <td>25981.0</td>\n",
       "      <td>The Eyes of My Mother</td>\n",
       "      <td>R</td>\n",
       "      <td>2016-12-02</td>\n",
       "      <td>76</td>\n",
       "      <td>6.2</td>\n",
       "      <td>Kika Magalhães</td>\n",
       "      <td>6947</td>\n",
       "      <td>Nicolas Pesce</td>\n",
       "      <td>2016</td>\n",
       "      <td>North America</td>\n",
       "    </tr>\n",
       "    <tr>\n",
       "      <th>6819</th>\n",
       "      <td>3500000.0</td>\n",
       "      <td>Les Productions du Trésor</td>\n",
       "      <td>France</td>\n",
       "      <td>Nicole Garcia</td>\n",
       "      <td>Drama</td>\n",
       "      <td>37757.0</td>\n",
       "      <td>From the Land of the Moon</td>\n",
       "      <td>R</td>\n",
       "      <td>2017-07-28</td>\n",
       "      <td>120</td>\n",
       "      <td>6.7</td>\n",
       "      <td>Marion Cotillard</td>\n",
       "      <td>2411</td>\n",
       "      <td>Milena Agus</td>\n",
       "      <td>2016</td>\n",
       "      <td>Europe</td>\n",
       "    </tr>\n",
       "  </tbody>\n",
       "</table>\n",
       "<p>1721 rows × 16 columns</p>\n",
       "</div>"
      ],
      "text/plain": [
       "          budget                                  company country  \\\n",
       "5      6000000.0                                  Hemdale      UK   \n",
       "7      6000000.0  De Laurentiis Entertainment Group (DEG)     USA   \n",
       "9     15000000.0                     SLM Production Group     USA   \n",
       "15    17000000.0       Producers Sales Organization (PSO)     USA   \n",
       "32    25000000.0                                  Gaumont  France   \n",
       "...          ...                                      ...     ...   \n",
       "6807   4000000.0                    Blumhouse Productions     USA   \n",
       "6812   8500000.0                             Killer Films     USA   \n",
       "6816  20000000.0                 Siempre Viva Productions     USA   \n",
       "6818   3500000.0                      Borderline Presents     USA   \n",
       "6819   3500000.0                Les Productions du Trésor  France   \n",
       "\n",
       "                  director   genre        gross                       name  \\\n",
       "5             Oliver Stone   Drama  138530565.0                    Platoon   \n",
       "7              David Lynch   Drama    8551228.0                Blue Velvet   \n",
       "9         David Cronenberg   Drama   40456565.0                    The Fly   \n",
       "15             Adrian Lyne   Drama    6734844.0                   9½ Weeks   \n",
       "32    Jean-Jacques Beineix   Drama    2003822.0                 Betty Blue   \n",
       "...                    ...     ...          ...                        ...   \n",
       "6807           Greg McLean  Horror   10732841.0               The Darkness   \n",
       "6812           Andrew Neel   Drama      23020.0                       Goat   \n",
       "6816        Paul Duddridge   Drama      28368.0      Mothers and Daughters   \n",
       "6818         Nicolas Pesce   Drama      25981.0      The Eyes of My Mother   \n",
       "6819         Nicole Garcia   Drama      37757.0  From the Land of the Moon   \n",
       "\n",
       "       rating    released  runtime  score                 star   votes  \\\n",
       "5           R  1987-02-06      120    8.1        Charlie Sheen  317585   \n",
       "7           R  1986-10-23      120    7.8  Isabella Rossellini  146768   \n",
       "9           R  1986-08-15       96    7.5        Jeff Goldblum  129698   \n",
       "15          R  1986-02-21      117    5.9        Mickey Rourke   31798   \n",
       "32    UNRATED  1986-11-07      120    7.4  Jean-Hugues Anglade   14562   \n",
       "...       ...         ...      ...    ...                  ...     ...   \n",
       "6807    PG-13  2016-05-13       92    4.4          Kevin Bacon    9450   \n",
       "6812        R  2016-09-23       96    5.7        Ben Schnetzer    4439   \n",
       "6816    PG-13  2016-05-06       90    4.9          Selma Blair    1959   \n",
       "6818        R  2016-12-02       76    6.2       Kika Magalhães    6947   \n",
       "6819        R  2017-07-28      120    6.7     Marion Cotillard    2411   \n",
       "\n",
       "                  writer  year     continents  \n",
       "5           Oliver Stone  1986         Europe  \n",
       "7            David Lynch  1986  North America  \n",
       "9       George Langelaan  1986  North America  \n",
       "15     Elizabeth McNeill  1986  North America  \n",
       "32        Philippe Djian  1986         Europe  \n",
       "...                  ...   ...            ...  \n",
       "6807         Greg McLean  2016  North America  \n",
       "6812  David Gordon Green  2016  North America  \n",
       "6816       Paige Cameron  2016  North America  \n",
       "6818       Nicolas Pesce  2016  North America  \n",
       "6819         Milena Agus  2016         Europe  \n",
       "\n",
       "[1721 rows x 16 columns]"
      ]
     },
     "execution_count": 319,
     "metadata": {},
     "output_type": "execute_result"
    }
   ],
   "source": [
    "data[(data.genre == \"Drama\") | (data.genre == \"Horror\")]"
   ]
  },
  {
   "cell_type": "code",
   "execution_count": 320,
   "metadata": {},
   "outputs": [
    {
     "data": {
      "text/plain": [
       "genre\n",
       "Drama     6.715720\n",
       "Horror    5.687004\n",
       "Name: score, dtype: float64"
      ]
     },
     "execution_count": 320,
     "metadata": {},
     "output_type": "execute_result"
    }
   ],
   "source": [
    "data[(data.genre == \"Drama\") | (data.genre == \"Horror\")].groupby([data.genre])[\"score\"].mean()"
   ]
  },
  {
   "cell_type": "code",
   "execution_count": 321,
   "metadata": {},
   "outputs": [
    {
     "data": {
      "text/plain": [
       "<AxesSubplot:xlabel='genre'>"
      ]
     },
     "execution_count": 321,
     "metadata": {},
     "output_type": "execute_result"
    },
    {
     "data": {
      "image/png": "[encoded data removed]",
      "text/plain": [
       "<Figure size 432x288 with 1 Axes>"
      ]
     },
     "metadata": {
      "needs_background": "light"
     },
     "output_type": "display_data"
    }
   ],
   "source": [
    "data[(data.genre == \"Drama\") | (data.genre == \"Horror\")].groupby([data.genre])[\"score\"].mean().plot(kind='bar')"
   ]
  },
  {
   "cell_type": "markdown",
   "metadata": {},
   "source": [
    "# Hipoteza 2: Średni dochód filmów z Ameryki Północnej jest większy niż średni dochód filmów z Europy. "
   ]
  },
  {
   "cell_type": "code",
   "execution_count": 322,
   "metadata": {},
   "outputs": [
    {
     "data": {
      "text/html": [
       "<div>\n",
       "<style scoped>\n",
       "    .dataframe tbody tr th:only-of-type {\n",
       "        vertical-align: middle;\n",
       "    }\n",
       "\n",
       "    .dataframe tbody tr th {\n",
       "        vertical-align: top;\n",
       "    }\n",
       "\n",
       "    .dataframe thead th {\n",
       "        text-align: right;\n",
       "    }\n",
       "</style>\n",
       "<table border=\"1\" class=\"dataframe\">\n",
       "  <thead>\n",
       "    <tr style=\"text-align: right;\">\n",
       "      <th></th>\n",
       "      <th>budget</th>\n",
       "      <th>company</th>\n",
       "      <th>country</th>\n",
       "      <th>director</th>\n",
       "      <th>genre</th>\n",
       "      <th>gross</th>\n",
       "      <th>name</th>\n",
       "      <th>rating</th>\n",
       "      <th>released</th>\n",
       "      <th>runtime</th>\n",
       "      <th>score</th>\n",
       "      <th>star</th>\n",
       "      <th>votes</th>\n",
       "      <th>writer</th>\n",
       "      <th>year</th>\n",
       "      <th>continents</th>\n",
       "    </tr>\n",
       "  </thead>\n",
       "  <tbody>\n",
       "    <tr>\n",
       "      <th>0</th>\n",
       "      <td>8000000.0</td>\n",
       "      <td>Columbia Pictures Corporation</td>\n",
       "      <td>USA</td>\n",
       "      <td>Rob Reiner</td>\n",
       "      <td>Adventure</td>\n",
       "      <td>52287414.0</td>\n",
       "      <td>Stand by Me</td>\n",
       "      <td>R</td>\n",
       "      <td>1986-08-22</td>\n",
       "      <td>89</td>\n",
       "      <td>8.1</td>\n",
       "      <td>Wil Wheaton</td>\n",
       "      <td>299174</td>\n",
       "      <td>Stephen King</td>\n",
       "      <td>1986</td>\n",
       "      <td>North America</td>\n",
       "    </tr>\n",
       "    <tr>\n",
       "      <th>1</th>\n",
       "      <td>6000000.0</td>\n",
       "      <td>Paramount Pictures</td>\n",
       "      <td>USA</td>\n",
       "      <td>John Hughes</td>\n",
       "      <td>Comedy</td>\n",
       "      <td>70136369.0</td>\n",
       "      <td>Ferris Bueller's Day Off</td>\n",
       "      <td>PG-13</td>\n",
       "      <td>1986-06-11</td>\n",
       "      <td>103</td>\n",
       "      <td>7.8</td>\n",
       "      <td>Matthew Broderick</td>\n",
       "      <td>264740</td>\n",
       "      <td>John Hughes</td>\n",
       "      <td>1986</td>\n",
       "      <td>North America</td>\n",
       "    </tr>\n",
       "    <tr>\n",
       "      <th>2</th>\n",
       "      <td>15000000.0</td>\n",
       "      <td>Paramount Pictures</td>\n",
       "      <td>USA</td>\n",
       "      <td>Tony Scott</td>\n",
       "      <td>Action</td>\n",
       "      <td>179800601.0</td>\n",
       "      <td>Top Gun</td>\n",
       "      <td>PG</td>\n",
       "      <td>1986-05-16</td>\n",
       "      <td>110</td>\n",
       "      <td>6.9</td>\n",
       "      <td>Tom Cruise</td>\n",
       "      <td>236909</td>\n",
       "      <td>Jim Cash</td>\n",
       "      <td>1986</td>\n",
       "      <td>North America</td>\n",
       "    </tr>\n",
       "    <tr>\n",
       "      <th>3</th>\n",
       "      <td>18500000.0</td>\n",
       "      <td>Twentieth Century Fox Film Corporation</td>\n",
       "      <td>USA</td>\n",
       "      <td>James Cameron</td>\n",
       "      <td>Action</td>\n",
       "      <td>85160248.0</td>\n",
       "      <td>Aliens</td>\n",
       "      <td>R</td>\n",
       "      <td>1986-07-18</td>\n",
       "      <td>137</td>\n",
       "      <td>8.4</td>\n",
       "      <td>Sigourney Weaver</td>\n",
       "      <td>540152</td>\n",
       "      <td>James Cameron</td>\n",
       "      <td>1986</td>\n",
       "      <td>North America</td>\n",
       "    </tr>\n",
       "    <tr>\n",
       "      <th>4</th>\n",
       "      <td>9000000.0</td>\n",
       "      <td>Walt Disney Pictures</td>\n",
       "      <td>USA</td>\n",
       "      <td>Randal Kleiser</td>\n",
       "      <td>Adventure</td>\n",
       "      <td>18564613.0</td>\n",
       "      <td>Flight of the Navigator</td>\n",
       "      <td>PG</td>\n",
       "      <td>1986-08-01</td>\n",
       "      <td>90</td>\n",
       "      <td>6.9</td>\n",
       "      <td>Joey Cramer</td>\n",
       "      <td>36636</td>\n",
       "      <td>Mark H. Baker</td>\n",
       "      <td>1986</td>\n",
       "      <td>North America</td>\n",
       "    </tr>\n",
       "    <tr>\n",
       "      <th>...</th>\n",
       "      <td>...</td>\n",
       "      <td>...</td>\n",
       "      <td>...</td>\n",
       "      <td>...</td>\n",
       "      <td>...</td>\n",
       "      <td>...</td>\n",
       "      <td>...</td>\n",
       "      <td>...</td>\n",
       "      <td>...</td>\n",
       "      <td>...</td>\n",
       "      <td>...</td>\n",
       "      <td>...</td>\n",
       "      <td>...</td>\n",
       "      <td>...</td>\n",
       "      <td>...</td>\n",
       "      <td>...</td>\n",
       "    </tr>\n",
       "    <tr>\n",
       "      <th>6815</th>\n",
       "      <td>20000000.0</td>\n",
       "      <td>Fox Searchlight Pictures</td>\n",
       "      <td>UK</td>\n",
       "      <td>Mandie Fletcher</td>\n",
       "      <td>Comedy</td>\n",
       "      <td>4750497.0</td>\n",
       "      <td>Absolutely Fabulous: The Movie</td>\n",
       "      <td>R</td>\n",
       "      <td>2016-07-22</td>\n",
       "      <td>91</td>\n",
       "      <td>5.4</td>\n",
       "      <td>Jennifer Saunders</td>\n",
       "      <td>9161</td>\n",
       "      <td>Jennifer Saunders</td>\n",
       "      <td>2016</td>\n",
       "      <td>Europe</td>\n",
       "    </tr>\n",
       "    <tr>\n",
       "      <th>6816</th>\n",
       "      <td>20000000.0</td>\n",
       "      <td>Siempre Viva Productions</td>\n",
       "      <td>USA</td>\n",
       "      <td>Paul Duddridge</td>\n",
       "      <td>Drama</td>\n",
       "      <td>28368.0</td>\n",
       "      <td>Mothers and Daughters</td>\n",
       "      <td>PG-13</td>\n",
       "      <td>2016-05-06</td>\n",
       "      <td>90</td>\n",
       "      <td>4.9</td>\n",
       "      <td>Selma Blair</td>\n",
       "      <td>1959</td>\n",
       "      <td>Paige Cameron</td>\n",
       "      <td>2016</td>\n",
       "      <td>North America</td>\n",
       "    </tr>\n",
       "    <tr>\n",
       "      <th>6817</th>\n",
       "      <td>3500000.0</td>\n",
       "      <td>Warner Bros. Animation</td>\n",
       "      <td>USA</td>\n",
       "      <td>Sam Liu</td>\n",
       "      <td>Animation</td>\n",
       "      <td>3775000.0</td>\n",
       "      <td>Batman: The Killing Joke</td>\n",
       "      <td>R</td>\n",
       "      <td>2016-07-25</td>\n",
       "      <td>76</td>\n",
       "      <td>6.5</td>\n",
       "      <td>Kevin Conroy</td>\n",
       "      <td>36333</td>\n",
       "      <td>Brian Azzarello</td>\n",
       "      <td>2016</td>\n",
       "      <td>North America</td>\n",
       "    </tr>\n",
       "    <tr>\n",
       "      <th>6818</th>\n",
       "      <td>3500000.0</td>\n",
       "      <td>Borderline Presents</td>\n",
       "      <td>USA</td>\n",
       "      <td>Nicolas Pesce</td>\n",
       "      <td>Drama</td>\n",
       "      <td>25981.0</td>\n",
       "      <td>The Eyes of My Mother</td>\n",
       "      <td>R</td>\n",
       "      <td>2016-12-02</td>\n",
       "      <td>76</td>\n",
       "      <td>6.2</td>\n",
       "      <td>Kika Magalhães</td>\n",
       "      <td>6947</td>\n",
       "      <td>Nicolas Pesce</td>\n",
       "      <td>2016</td>\n",
       "      <td>North America</td>\n",
       "    </tr>\n",
       "    <tr>\n",
       "      <th>6819</th>\n",
       "      <td>3500000.0</td>\n",
       "      <td>Les Productions du Trésor</td>\n",
       "      <td>France</td>\n",
       "      <td>Nicole Garcia</td>\n",
       "      <td>Drama</td>\n",
       "      <td>37757.0</td>\n",
       "      <td>From the Land of the Moon</td>\n",
       "      <td>R</td>\n",
       "      <td>2017-07-28</td>\n",
       "      <td>120</td>\n",
       "      <td>6.7</td>\n",
       "      <td>Marion Cotillard</td>\n",
       "      <td>2411</td>\n",
       "      <td>Milena Agus</td>\n",
       "      <td>2016</td>\n",
       "      <td>Europe</td>\n",
       "    </tr>\n",
       "  </tbody>\n",
       "</table>\n",
       "<p>6449 rows × 16 columns</p>\n",
       "</div>"
      ],
      "text/plain": [
       "          budget                                 company country  \\\n",
       "0      8000000.0           Columbia Pictures Corporation     USA   \n",
       "1      6000000.0                      Paramount Pictures     USA   \n",
       "2     15000000.0                      Paramount Pictures     USA   \n",
       "3     18500000.0  Twentieth Century Fox Film Corporation     USA   \n",
       "4      9000000.0                    Walt Disney Pictures     USA   \n",
       "...          ...                                     ...     ...   \n",
       "6815  20000000.0                Fox Searchlight Pictures      UK   \n",
       "6816  20000000.0                Siempre Viva Productions     USA   \n",
       "6817   3500000.0                  Warner Bros. Animation     USA   \n",
       "6818   3500000.0                     Borderline Presents     USA   \n",
       "6819   3500000.0               Les Productions du Trésor  France   \n",
       "\n",
       "             director      genre        gross                            name  \\\n",
       "0          Rob Reiner  Adventure   52287414.0                     Stand by Me   \n",
       "1         John Hughes     Comedy   70136369.0        Ferris Bueller's Day Off   \n",
       "2          Tony Scott     Action  179800601.0                         Top Gun   \n",
       "3       James Cameron     Action   85160248.0                          Aliens   \n",
       "4      Randal Kleiser  Adventure   18564613.0         Flight of the Navigator   \n",
       "...               ...        ...          ...                             ...   \n",
       "6815  Mandie Fletcher     Comedy    4750497.0  Absolutely Fabulous: The Movie   \n",
       "6816   Paul Duddridge      Drama      28368.0           Mothers and Daughters   \n",
       "6817          Sam Liu  Animation    3775000.0        Batman: The Killing Joke   \n",
       "6818    Nicolas Pesce      Drama      25981.0           The Eyes of My Mother   \n",
       "6819    Nicole Garcia      Drama      37757.0       From the Land of the Moon   \n",
       "\n",
       "     rating    released  runtime  score               star   votes  \\\n",
       "0         R  1986-08-22       89    8.1        Wil Wheaton  299174   \n",
       "1     PG-13  1986-06-11      103    7.8  Matthew Broderick  264740   \n",
       "2        PG  1986-05-16      110    6.9         Tom Cruise  236909   \n",
       "3         R  1986-07-18      137    8.4   Sigourney Weaver  540152   \n",
       "4        PG  1986-08-01       90    6.9        Joey Cramer   36636   \n",
       "...     ...         ...      ...    ...                ...     ...   \n",
       "6815      R  2016-07-22       91    5.4  Jennifer Saunders    9161   \n",
       "6816  PG-13  2016-05-06       90    4.9        Selma Blair    1959   \n",
       "6817      R  2016-07-25       76    6.5       Kevin Conroy   36333   \n",
       "6818      R  2016-12-02       76    6.2     Kika Magalhães    6947   \n",
       "6819      R  2017-07-28      120    6.7   Marion Cotillard    2411   \n",
       "\n",
       "                 writer  year     continents  \n",
       "0          Stephen King  1986  North America  \n",
       "1           John Hughes  1986  North America  \n",
       "2              Jim Cash  1986  North America  \n",
       "3         James Cameron  1986  North America  \n",
       "4         Mark H. Baker  1986  North America  \n",
       "...                 ...   ...            ...  \n",
       "6815  Jennifer Saunders  2016         Europe  \n",
       "6816      Paige Cameron  2016  North America  \n",
       "6817    Brian Azzarello  2016  North America  \n",
       "6818      Nicolas Pesce  2016  North America  \n",
       "6819        Milena Agus  2016         Europe  \n",
       "\n",
       "[6449 rows x 16 columns]"
      ]
     },
     "execution_count": 322,
     "metadata": {},
     "output_type": "execute_result"
    }
   ],
   "source": [
    "data[(data.continents == \"North America\") | (data.continents == \"Europe\")]"
   ]
  },
  {
   "cell_type": "code",
   "execution_count": 323,
   "metadata": {},
   "outputs": [
    {
     "data": {
      "text/plain": [
       "continents\n",
       "Europe           1.554956e+07\n",
       "North America    3.974920e+07\n",
       "Name: gross, dtype: float64"
      ]
     },
     "execution_count": 323,
     "metadata": {},
     "output_type": "execute_result"
    }
   ],
   "source": [
    "data[(data.continents == \"North America\") | (data.continents == \"Europe\")].groupby([data.continents])[\"gross\"].mean()"
   ]
  },
  {
   "cell_type": "code",
   "execution_count": 324,
   "metadata": {},
   "outputs": [
    {
     "data": {
      "text/plain": [
       "<AxesSubplot:xlabel='continents'>"
      ]
     },
     "execution_count": 324,
     "metadata": {},
     "output_type": "execute_result"
    },
    {
     "data": {
      "image/png": "[encoded data removed]",
      "text/plain": [
       "<Figure size 432x288 with 1 Axes>"
      ]
     },
     "metadata": {
      "needs_background": "light"
     },
     "output_type": "display_data"
    }
   ],
   "source": [
    "data[(data.continents == \"North America\") | (data.continents == \"Europe\")].groupby([data.continents])[\"gross\"].mean().plot(kind =\"bar\")"
   ]
  },
  {
   "cell_type": "markdown",
   "metadata": {},
   "source": [
    "# Hipoteza 3: Filmy akcji są dłuższe od animacji. "
   ]
  },
  {
   "cell_type": "code",
   "execution_count": 325,
   "metadata": {},
   "outputs": [
    {
     "data": {
      "text/html": [
       "<div>\n",
       "<style scoped>\n",
       "    .dataframe tbody tr th:only-of-type {\n",
       "        vertical-align: middle;\n",
       "    }\n",
       "\n",
       "    .dataframe tbody tr th {\n",
       "        vertical-align: top;\n",
       "    }\n",
       "\n",
       "    .dataframe thead th {\n",
       "        text-align: right;\n",
       "    }\n",
       "</style>\n",
       "<table border=\"1\" class=\"dataframe\">\n",
       "  <thead>\n",
       "    <tr style=\"text-align: right;\">\n",
       "      <th></th>\n",
       "      <th>budget</th>\n",
       "      <th>company</th>\n",
       "      <th>country</th>\n",
       "      <th>director</th>\n",
       "      <th>genre</th>\n",
       "      <th>gross</th>\n",
       "      <th>name</th>\n",
       "      <th>rating</th>\n",
       "      <th>released</th>\n",
       "      <th>runtime</th>\n",
       "      <th>score</th>\n",
       "      <th>star</th>\n",
       "      <th>votes</th>\n",
       "      <th>writer</th>\n",
       "      <th>year</th>\n",
       "      <th>continents</th>\n",
       "    </tr>\n",
       "  </thead>\n",
       "  <tbody>\n",
       "    <tr>\n",
       "      <th>2</th>\n",
       "      <td>15000000.0</td>\n",
       "      <td>Paramount Pictures</td>\n",
       "      <td>USA</td>\n",
       "      <td>Tony Scott</td>\n",
       "      <td>Action</td>\n",
       "      <td>179800601.0</td>\n",
       "      <td>Top Gun</td>\n",
       "      <td>PG</td>\n",
       "      <td>1986-05-16</td>\n",
       "      <td>110</td>\n",
       "      <td>6.9</td>\n",
       "      <td>Tom Cruise</td>\n",
       "      <td>236909</td>\n",
       "      <td>Jim Cash</td>\n",
       "      <td>1986</td>\n",
       "      <td>North America</td>\n",
       "    </tr>\n",
       "    <tr>\n",
       "      <th>3</th>\n",
       "      <td>18500000.0</td>\n",
       "      <td>Twentieth Century Fox Film Corporation</td>\n",
       "      <td>USA</td>\n",
       "      <td>James Cameron</td>\n",
       "      <td>Action</td>\n",
       "      <td>85160248.0</td>\n",
       "      <td>Aliens</td>\n",
       "      <td>R</td>\n",
       "      <td>1986-07-18</td>\n",
       "      <td>137</td>\n",
       "      <td>8.4</td>\n",
       "      <td>Sigourney Weaver</td>\n",
       "      <td>540152</td>\n",
       "      <td>James Cameron</td>\n",
       "      <td>1986</td>\n",
       "      <td>North America</td>\n",
       "    </tr>\n",
       "    <tr>\n",
       "      <th>11</th>\n",
       "      <td>16000000.0</td>\n",
       "      <td>Thorn EMI Screen Entertainment</td>\n",
       "      <td>UK</td>\n",
       "      <td>Russell Mulcahy</td>\n",
       "      <td>Action</td>\n",
       "      <td>5900000.0</td>\n",
       "      <td>Highlander</td>\n",
       "      <td>R</td>\n",
       "      <td>1986-03-07</td>\n",
       "      <td>116</td>\n",
       "      <td>7.2</td>\n",
       "      <td>Christopher Lambert</td>\n",
       "      <td>104860</td>\n",
       "      <td>Gregory Widen</td>\n",
       "      <td>1986</td>\n",
       "      <td>Europe</td>\n",
       "    </tr>\n",
       "    <tr>\n",
       "      <th>13</th>\n",
       "      <td>25000000.0</td>\n",
       "      <td>Twentieth Century Fox Film Corporation</td>\n",
       "      <td>USA</td>\n",
       "      <td>John Carpenter</td>\n",
       "      <td>Action</td>\n",
       "      <td>11100000.0</td>\n",
       "      <td>Big Trouble in Little China</td>\n",
       "      <td>PG-13</td>\n",
       "      <td>1986-07-02</td>\n",
       "      <td>99</td>\n",
       "      <td>7.3</td>\n",
       "      <td>Kurt Russell</td>\n",
       "      <td>101678</td>\n",
       "      <td>Gary Goldman</td>\n",
       "      <td>1986</td>\n",
       "      <td>North America</td>\n",
       "    </tr>\n",
       "    <tr>\n",
       "      <th>16</th>\n",
       "      <td>10000000.0</td>\n",
       "      <td>De Laurentiis Entertainment Group (DEG)</td>\n",
       "      <td>USA</td>\n",
       "      <td>Stephen King</td>\n",
       "      <td>Action</td>\n",
       "      <td>7433663.0</td>\n",
       "      <td>Maximum Overdrive</td>\n",
       "      <td>R</td>\n",
       "      <td>1986-07-25</td>\n",
       "      <td>98</td>\n",
       "      <td>5.4</td>\n",
       "      <td>Emilio Estevez</td>\n",
       "      <td>24881</td>\n",
       "      <td>Stephen King</td>\n",
       "      <td>1986</td>\n",
       "      <td>North America</td>\n",
       "    </tr>\n",
       "    <tr>\n",
       "      <th>...</th>\n",
       "      <td>...</td>\n",
       "      <td>...</td>\n",
       "      <td>...</td>\n",
       "      <td>...</td>\n",
       "      <td>...</td>\n",
       "      <td>...</td>\n",
       "      <td>...</td>\n",
       "      <td>...</td>\n",
       "      <td>...</td>\n",
       "      <td>...</td>\n",
       "      <td>...</td>\n",
       "      <td>...</td>\n",
       "      <td>...</td>\n",
       "      <td>...</td>\n",
       "      <td>...</td>\n",
       "      <td>...</td>\n",
       "    </tr>\n",
       "    <tr>\n",
       "      <th>6798</th>\n",
       "      <td>20000000.0</td>\n",
       "      <td>StudioCanal</td>\n",
       "      <td>UK</td>\n",
       "      <td>James Watkins</td>\n",
       "      <td>Action</td>\n",
       "      <td>39000.0</td>\n",
       "      <td>The Take</td>\n",
       "      <td>R</td>\n",
       "      <td>2016-11-18</td>\n",
       "      <td>92</td>\n",
       "      <td>6.3</td>\n",
       "      <td>Idris Elba</td>\n",
       "      <td>23717</td>\n",
       "      <td>Andrew Baldwin</td>\n",
       "      <td>2016</td>\n",
       "      <td>Europe</td>\n",
       "    </tr>\n",
       "    <tr>\n",
       "      <th>6804</th>\n",
       "      <td>5000000.0</td>\n",
       "      <td>Digic Pictures</td>\n",
       "      <td>Japan</td>\n",
       "      <td>Takeshi Nozue</td>\n",
       "      <td>Animation</td>\n",
       "      <td>233569.0</td>\n",
       "      <td>Kingsglaive: Final Fantasy XV</td>\n",
       "      <td>PG-13</td>\n",
       "      <td>2016-07-09</td>\n",
       "      <td>110</td>\n",
       "      <td>6.9</td>\n",
       "      <td>Aaron Paul</td>\n",
       "      <td>15705</td>\n",
       "      <td>Takashi Hasegawa</td>\n",
       "      <td>2016</td>\n",
       "      <td>Asia</td>\n",
       "    </tr>\n",
       "    <tr>\n",
       "      <th>6811</th>\n",
       "      <td>8500000.0</td>\n",
       "      <td>CBS Films</td>\n",
       "      <td>USA</td>\n",
       "      <td>Steve Carr</td>\n",
       "      <td>Animation</td>\n",
       "      <td>19985196.0</td>\n",
       "      <td>Middle School: The Worst Years of My Life</td>\n",
       "      <td>PG</td>\n",
       "      <td>2016-10-07</td>\n",
       "      <td>92</td>\n",
       "      <td>6.1</td>\n",
       "      <td>Griffin Gluck</td>\n",
       "      <td>4556</td>\n",
       "      <td>Chris Bowman</td>\n",
       "      <td>2016</td>\n",
       "      <td>North America</td>\n",
       "    </tr>\n",
       "    <tr>\n",
       "      <th>6814</th>\n",
       "      <td>20000000.0</td>\n",
       "      <td>LD Entertainment</td>\n",
       "      <td>USA</td>\n",
       "      <td>Kevin Reynolds</td>\n",
       "      <td>Action</td>\n",
       "      <td>36874745.0</td>\n",
       "      <td>Risen</td>\n",
       "      <td>PG-13</td>\n",
       "      <td>2016-02-19</td>\n",
       "      <td>107</td>\n",
       "      <td>6.3</td>\n",
       "      <td>Joseph Fiennes</td>\n",
       "      <td>19084</td>\n",
       "      <td>Kevin Reynolds</td>\n",
       "      <td>2016</td>\n",
       "      <td>North America</td>\n",
       "    </tr>\n",
       "    <tr>\n",
       "      <th>6817</th>\n",
       "      <td>3500000.0</td>\n",
       "      <td>Warner Bros. Animation</td>\n",
       "      <td>USA</td>\n",
       "      <td>Sam Liu</td>\n",
       "      <td>Animation</td>\n",
       "      <td>3775000.0</td>\n",
       "      <td>Batman: The Killing Joke</td>\n",
       "      <td>R</td>\n",
       "      <td>2016-07-25</td>\n",
       "      <td>76</td>\n",
       "      <td>6.5</td>\n",
       "      <td>Kevin Conroy</td>\n",
       "      <td>36333</td>\n",
       "      <td>Brian Azzarello</td>\n",
       "      <td>2016</td>\n",
       "      <td>North America</td>\n",
       "    </tr>\n",
       "  </tbody>\n",
       "</table>\n",
       "<p>1608 rows × 16 columns</p>\n",
       "</div>"
      ],
      "text/plain": [
       "          budget                                  company country  \\\n",
       "2     15000000.0                       Paramount Pictures     USA   \n",
       "3     18500000.0   Twentieth Century Fox Film Corporation     USA   \n",
       "11    16000000.0           Thorn EMI Screen Entertainment      UK   \n",
       "13    25000000.0   Twentieth Century Fox Film Corporation     USA   \n",
       "16    10000000.0  De Laurentiis Entertainment Group (DEG)     USA   \n",
       "...          ...                                      ...     ...   \n",
       "6798  20000000.0                              StudioCanal      UK   \n",
       "6804   5000000.0                           Digic Pictures   Japan   \n",
       "6811   8500000.0                                CBS Films     USA   \n",
       "6814  20000000.0                         LD Entertainment     USA   \n",
       "6817   3500000.0                   Warner Bros. Animation     USA   \n",
       "\n",
       "             director      genre        gross  \\\n",
       "2          Tony Scott     Action  179800601.0   \n",
       "3       James Cameron     Action   85160248.0   \n",
       "11    Russell Mulcahy     Action    5900000.0   \n",
       "13     John Carpenter     Action   11100000.0   \n",
       "16       Stephen King     Action    7433663.0   \n",
       "...               ...        ...          ...   \n",
       "6798    James Watkins     Action      39000.0   \n",
       "6804    Takeshi Nozue  Animation     233569.0   \n",
       "6811       Steve Carr  Animation   19985196.0   \n",
       "6814   Kevin Reynolds     Action   36874745.0   \n",
       "6817          Sam Liu  Animation    3775000.0   \n",
       "\n",
       "                                           name rating    released  runtime  \\\n",
       "2                                       Top Gun     PG  1986-05-16      110   \n",
       "3                                        Aliens      R  1986-07-18      137   \n",
       "11                                   Highlander      R  1986-03-07      116   \n",
       "13                  Big Trouble in Little China  PG-13  1986-07-02       99   \n",
       "16                            Maximum Overdrive      R  1986-07-25       98   \n",
       "...                                         ...    ...         ...      ...   \n",
       "6798                                   The Take      R  2016-11-18       92   \n",
       "6804              Kingsglaive: Final Fantasy XV  PG-13  2016-07-09      110   \n",
       "6811  Middle School: The Worst Years of My Life     PG  2016-10-07       92   \n",
       "6814                                      Risen  PG-13  2016-02-19      107   \n",
       "6817                   Batman: The Killing Joke      R  2016-07-25       76   \n",
       "\n",
       "      score                 star   votes            writer  year  \\\n",
       "2       6.9           Tom Cruise  236909          Jim Cash  1986   \n",
       "3       8.4     Sigourney Weaver  540152     James Cameron  1986   \n",
       "11      7.2  Christopher Lambert  104860     Gregory Widen  1986   \n",
       "13      7.3         Kurt Russell  101678      Gary Goldman  1986   \n",
       "16      5.4       Emilio Estevez   24881      Stephen King  1986   \n",
       "...     ...                  ...     ...               ...   ...   \n",
       "6798    6.3           Idris Elba   23717    Andrew Baldwin  2016   \n",
       "6804    6.9           Aaron Paul   15705  Takashi Hasegawa  2016   \n",
       "6811    6.1        Griffin Gluck    4556      Chris Bowman  2016   \n",
       "6814    6.3       Joseph Fiennes   19084    Kevin Reynolds  2016   \n",
       "6817    6.5         Kevin Conroy   36333   Brian Azzarello  2016   \n",
       "\n",
       "         continents  \n",
       "2     North America  \n",
       "3     North America  \n",
       "11           Europe  \n",
       "13    North America  \n",
       "16    North America  \n",
       "...             ...  \n",
       "6798         Europe  \n",
       "6804           Asia  \n",
       "6811  North America  \n",
       "6814  North America  \n",
       "6817  North America  \n",
       "\n",
       "[1608 rows x 16 columns]"
      ]
     },
     "execution_count": 325,
     "metadata": {},
     "output_type": "execute_result"
    }
   ],
   "source": [
    "data[(data.genre == \"Action\") | (data.genre == \"Animation\")]"
   ]
  },
  {
   "cell_type": "code",
   "execution_count": 326,
   "metadata": {},
   "outputs": [
    {
     "data": {
      "text/plain": [
       "genre\n",
       "Action       109.000751\n",
       "Animation     92.393502\n",
       "Name: runtime, dtype: float64"
      ]
     },
     "execution_count": 326,
     "metadata": {},
     "output_type": "execute_result"
    }
   ],
   "source": [
    "data[(data.genre == \"Action\") | (data.genre == \"Animation\")].groupby([data.genre])[\"runtime\"].mean()"
   ]
  },
  {
   "cell_type": "code",
   "execution_count": 327,
   "metadata": {},
   "outputs": [
    {
     "data": {
      "text/plain": [
       "<AxesSubplot:xlabel='genre'>"
      ]
     },
     "execution_count": 327,
     "metadata": {},
     "output_type": "execute_result"
    },
    {
     "data": {
      "image/png": "[encoded data removed]",
      "text/plain": [
       "<Figure size 432x288 with 1 Axes>"
      ]
     },
     "metadata": {
      "needs_background": "light"
     },
     "output_type": "display_data"
    }
   ],
   "source": [
    "data[(data.genre == \"Action\") | (data.genre == \"Animation\")].groupby([data.genre])[\"runtime\"].mean().plot(kind = \"bar\")"
   ]
  },
  {
   "cell_type": "markdown",
   "metadata": {},
   "source": [
    "# Hipoteza 4: Większość animacji powstała w Japoni "
   ]
  },
  {
   "cell_type": "code",
   "execution_count": 328,
   "metadata": {},
   "outputs": [],
   "source": [
    "top_animation_by_country = data[data.genre == \"Animation\"][\"country\"].value_counts().head(5).to_frame()"
   ]
  },
  {
   "cell_type": "code",
   "execution_count": 329,
   "metadata": {},
   "outputs": [
    {
     "data": {
      "image/png": "[encoded data removed]",
      "text/plain": [
       "<Figure size 864x864 with 1 Axes>"
      ]
     },
     "metadata": {},
     "output_type": "display_data"
    }
   ],
   "source": [
    "colors = [\"palevioletred\", \"paleturquoise\", \"palegreen\", \"lightpink\", \"dodgerblue\"]\n",
    "plt.pie(top_animation_by_country[\"country\"], labels = top_animation_by_country.axes[0], colors = colors, shadow = \"True\", startangle =60)\n",
    "plt.title(\"5 krajów z największą ilością animacji\")\n",
    "plt.legend(loc = \"upper left\")\n",
    "plt.plot()\n",
    "wykres= plt.gcf()\n",
    "wykres.set_size_inches(12,12)"
   ]
  },
  {
   "cell_type": "markdown",
   "metadata": {},
   "source": [
    "# 1. Jaki jest związek między oceną filmu a długością jego trwania?"
   ]
  },
  {
   "cell_type": "code",
   "execution_count": 336,
   "metadata": {},
   "outputs": [
    {
     "name": "stdout",
     "output_type": "stream",
     "text": [
      "Poziom istotności:  0.0\n",
      "Poziom korelacji: 0.40\n"
     ]
    }
   ],
   "source": [
    "korelacja, wartoscp = st.pearsonr(data[\"score\"].values, data[\"runtime\"].values)\n",
    "print('Poziom istotności: ', wartoscp.round(2))\n",
    "print('Poziom korelacji:', '{:2.2f}'.format(korelacja))"
   ]
  },
  {
   "cell_type": "markdown",
   "metadata": {},
   "source": [
    "# 2. Jaki jest związek między liczbą oddanych głosów a przychodem?"
   ]
  },
  {
   "cell_type": "code",
   "execution_count": 331,
   "metadata": {},
   "outputs": [
    {
     "name": "stdout",
     "output_type": "stream",
     "text": [
      "Poziom istotności:  0.0\n",
      "Poziom korelacji: 0.66\n"
     ]
    }
   ],
   "source": [
    "korelacja, wartoscp = st.pearsonr(data[\"gross\"].values, data[\"votes\"].values)\n",
    "print('Poziom istotności: ', wartoscp)\n",
    "print('Poziom korelacji:', '{:2.2f}'.format(korelacja))"
   ]
  },
  {
   "cell_type": "markdown",
   "metadata": {},
   "source": [
    "# 3. Ile jest procent filmów trwających mniej niż 100 min mających ocenę powyżej 6? "
   ]
  },
  {
   "cell_type": "code",
   "execution_count": 332,
   "metadata": {},
   "outputs": [
    {
     "data": {
      "text/plain": [
       "score     1284\n",
       "reszta    5536\n",
       "dtype: int64"
      ]
     },
     "execution_count": 332,
     "metadata": {},
     "output_type": "execute_result"
    }
   ],
   "source": [
    "czas_ocena = data.loc[data.runtime < 100, [\"runtime\", \"score\"]]\n",
    "czas_ocena = czas_ocena.loc[czas_ocena.score > 6 , [\"runtime\", \"score\"]]\n",
    "czas_ocena = czas_ocena.count()\n",
    "czas_ocena[\"reszta\"] = data.runtime.count() - czas_ocena.runtime\n",
    "del czas_ocena[\"runtime\"]\n",
    "czas_ocena"
   ]
  },
  {
   "cell_type": "code",
   "execution_count": 333,
   "metadata": {},
   "outputs": [
    {
     "data": {
      "text/plain": [
       "23.19"
      ]
     },
     "execution_count": 333,
     "metadata": {},
     "output_type": "execute_result"
    }
   ],
   "source": [
    "#Obliczony procent danych filmów\n",
    "((czas_ocena.score / czas_ocena.reszta) * 100).round(2)"
   ]
  },
  {
   "cell_type": "code",
   "execution_count": 334,
   "metadata": {},
   "outputs": [
    {
     "data": {
      "text/plain": [
       "Text(0, 0.5, '')"
      ]
     },
     "execution_count": 334,
     "metadata": {},
     "output_type": "execute_result"
    },
    {
     "data": {
      "image/png": "[encoded data removed]",
      "text/plain": [
       "<Figure size 864x864 with 1 Axes>"
      ]
     },
     "metadata": {},
     "output_type": "display_data"
    }
   ],
   "source": [
    "labels = \"Filmy spełniające warunki\", \"Reszta filmów\"\n",
    "colors = [\"hotpink\", \"royalblue\"]\n",
    "wykres_kolowy = czas_ocena.plot.pie(figsize = (12,12), startangle =10, shadow = \"True\", colors = colors, labels = labels)\n",
    "plt.title(\"Liczba filmów spełniającyh dane warunki a reszta filmów\")\n",
    "plt.legend(loc = \"upper right\")\n",
    "plt.ylabel('')"
   ]
  },
  {
   "cell_type": "markdown",
   "metadata": {},
   "source": [
    "# 4. Jaki jest związek między budżetem a przychodem filmu?"
   ]
  },
  {
   "cell_type": "code",
   "execution_count": 335,
   "metadata": {},
   "outputs": [
    {
     "name": "stdout",
     "output_type": "stream",
     "text": [
      "Poziom istotności:  0.0\n",
      "Poziom korelacji: 0.65\n"
     ]
    }
   ],
   "source": [
    "korelacja, wartoscp = st.pearsonr(data[\"budget\"].values, data[\"gross\"].values)\n",
    "print('Poziom istotności: ', wartoscp.round(2))\n",
    "print('Poziom korelacji:', '{:2.2f}'.format(korelacja))"
   ]
  }
 ],
 "metadata": {
  "kernelspec": {
   "display_name": "Python 3",
   "language": "python",
   "name": "python3"
  },
  "language_info": {
   "codemirror_mode": {
    "name": "ipython",
    "version": 3
   },
   "file_extension": ".py",
   "mimetype": "text/x-python",
   "name": "python",
   "nbconvert_exporter": "python",
   "pygments_lexer": "ipython3",
   "version": "3.8.3"
  }
 },
 "nbformat": 4,
 "nbformat_minor": 2
}
