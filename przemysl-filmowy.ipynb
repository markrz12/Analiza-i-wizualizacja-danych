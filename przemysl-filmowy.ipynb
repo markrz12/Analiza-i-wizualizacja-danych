{
 "cells": [
  {
   "cell_type": "code",
   "execution_count": 2,
   "metadata": {},
   "outputs": [],
   "source": [
    "import numpy as np\n",
    "import pandas as pd\n",
    "import matplotlib.pyplot as plt\n",
    "import scipy.stats as st\n",
    "import os"
   ]
  },
  {
   "cell_type": "code",
   "execution_count": 3,
   "metadata": {},
   "outputs": [
    {
     "data": {
      "text/plain": [
       "['.ipynb_checkpoints', 'movies.csv', 'przemysl-filmowy.ipynb', 'README.md']"
      ]
     },
     "execution_count": 3,
     "metadata": {},
     "output_type": "execute_result"
    }
   ],
   "source": [
    "os.listdir()  "
   ]
  },
  {
   "cell_type": "code",
   "execution_count": 4,
   "metadata": {},
   "outputs": [
    {
     "name": "stdout",
     "output_type": "stream",
     "text": [
      "<class 'pandas.core.frame.DataFrame'>\n",
      "RangeIndex: 6820 entries, 0 to 6819\n",
      "Data columns (total 15 columns):\n",
      " #   Column    Non-Null Count  Dtype  \n",
      "---  ------    --------------  -----  \n",
      " 0   budget    6820 non-null   float64\n",
      " 1   company   6820 non-null   object \n",
      " 2   country   6820 non-null   object \n",
      " 3   director  6820 non-null   object \n",
      " 4   genre     6820 non-null   object \n",
      " 5   gross     6820 non-null   float64\n",
      " 6   name      6820 non-null   object \n",
      " 7   rating    6820 non-null   object \n",
      " 8   released  6820 non-null   object \n",
      " 9   runtime   6820 non-null   int64  \n",
      " 10  score     6820 non-null   float64\n",
      " 11  star      6820 non-null   object \n",
      " 12  votes     6820 non-null   int64  \n",
      " 13  writer    6820 non-null   object \n",
      " 14  year      6820 non-null   int64  \n",
      "dtypes: float64(3), int64(3), object(9)\n",
      "memory usage: 799.3+ KB\n"
     ]
    }
   ],
   "source": [
    "plik = 'movies.csv'\n",
    "data = pd.read_csv(plik, encoding='cp1252')\n",
    "data.info()"
   ]
  },
  {
   "cell_type": "code",
   "execution_count": 5,
   "metadata": {},
   "outputs": [
    {
     "data": {
      "text/html": [
       "<div>\n",
       "<style scoped>\n",
       "    .dataframe tbody tr th:only-of-type {\n",
       "        vertical-align: middle;\n",
       "    }\n",
       "\n",
       "    .dataframe tbody tr th {\n",
       "        vertical-align: top;\n",
       "    }\n",
       "\n",
       "    .dataframe thead th {\n",
       "        text-align: right;\n",
       "    }\n",
       "</style>\n",
       "<table border=\"1\" class=\"dataframe\">\n",
       "  <thead>\n",
       "    <tr style=\"text-align: right;\">\n",
       "      <th></th>\n",
       "      <th>budget</th>\n",
       "      <th>company</th>\n",
       "      <th>country</th>\n",
       "      <th>director</th>\n",
       "      <th>genre</th>\n",
       "      <th>gross</th>\n",
       "      <th>name</th>\n",
       "      <th>rating</th>\n",
       "      <th>released</th>\n",
       "      <th>runtime</th>\n",
       "      <th>score</th>\n",
       "      <th>star</th>\n",
       "      <th>votes</th>\n",
       "      <th>writer</th>\n",
       "      <th>year</th>\n",
       "    </tr>\n",
       "  </thead>\n",
       "  <tbody>\n",
       "    <tr>\n",
       "      <th>0</th>\n",
       "      <td>8000000.0</td>\n",
       "      <td>Columbia Pictures Corporation</td>\n",
       "      <td>USA</td>\n",
       "      <td>Rob Reiner</td>\n",
       "      <td>Adventure</td>\n",
       "      <td>52287414.0</td>\n",
       "      <td>Stand by Me</td>\n",
       "      <td>R</td>\n",
       "      <td>1986-08-22</td>\n",
       "      <td>89</td>\n",
       "      <td>8.1</td>\n",
       "      <td>Wil Wheaton</td>\n",
       "      <td>299174</td>\n",
       "      <td>Stephen King</td>\n",
       "      <td>1986</td>\n",
       "    </tr>\n",
       "    <tr>\n",
       "      <th>1</th>\n",
       "      <td>6000000.0</td>\n",
       "      <td>Paramount Pictures</td>\n",
       "      <td>USA</td>\n",
       "      <td>John Hughes</td>\n",
       "      <td>Comedy</td>\n",
       "      <td>70136369.0</td>\n",
       "      <td>Ferris Bueller's Day Off</td>\n",
       "      <td>PG-13</td>\n",
       "      <td>1986-06-11</td>\n",
       "      <td>103</td>\n",
       "      <td>7.8</td>\n",
       "      <td>Matthew Broderick</td>\n",
       "      <td>264740</td>\n",
       "      <td>John Hughes</td>\n",
       "      <td>1986</td>\n",
       "    </tr>\n",
       "    <tr>\n",
       "      <th>2</th>\n",
       "      <td>15000000.0</td>\n",
       "      <td>Paramount Pictures</td>\n",
       "      <td>USA</td>\n",
       "      <td>Tony Scott</td>\n",
       "      <td>Action</td>\n",
       "      <td>179800601.0</td>\n",
       "      <td>Top Gun</td>\n",
       "      <td>PG</td>\n",
       "      <td>1986-05-16</td>\n",
       "      <td>110</td>\n",
       "      <td>6.9</td>\n",
       "      <td>Tom Cruise</td>\n",
       "      <td>236909</td>\n",
       "      <td>Jim Cash</td>\n",
       "      <td>1986</td>\n",
       "    </tr>\n",
       "    <tr>\n",
       "      <th>3</th>\n",
       "      <td>18500000.0</td>\n",
       "      <td>Twentieth Century Fox Film Corporation</td>\n",
       "      <td>USA</td>\n",
       "      <td>James Cameron</td>\n",
       "      <td>Action</td>\n",
       "      <td>85160248.0</td>\n",
       "      <td>Aliens</td>\n",
       "      <td>R</td>\n",
       "      <td>1986-07-18</td>\n",
       "      <td>137</td>\n",
       "      <td>8.4</td>\n",
       "      <td>Sigourney Weaver</td>\n",
       "      <td>540152</td>\n",
       "      <td>James Cameron</td>\n",
       "      <td>1986</td>\n",
       "    </tr>\n",
       "    <tr>\n",
       "      <th>4</th>\n",
       "      <td>9000000.0</td>\n",
       "      <td>Walt Disney Pictures</td>\n",
       "      <td>USA</td>\n",
       "      <td>Randal Kleiser</td>\n",
       "      <td>Adventure</td>\n",
       "      <td>18564613.0</td>\n",
       "      <td>Flight of the Navigator</td>\n",
       "      <td>PG</td>\n",
       "      <td>1986-08-01</td>\n",
       "      <td>90</td>\n",
       "      <td>6.9</td>\n",
       "      <td>Joey Cramer</td>\n",
       "      <td>36636</td>\n",
       "      <td>Mark H. Baker</td>\n",
       "      <td>1986</td>\n",
       "    </tr>\n",
       "  </tbody>\n",
       "</table>\n",
       "</div>"
      ],
      "text/plain": [
       "       budget                                 company country        director  \\\n",
       "0   8000000.0           Columbia Pictures Corporation     USA      Rob Reiner   \n",
       "1   6000000.0                      Paramount Pictures     USA     John Hughes   \n",
       "2  15000000.0                      Paramount Pictures     USA      Tony Scott   \n",
       "3  18500000.0  Twentieth Century Fox Film Corporation     USA   James Cameron   \n",
       "4   9000000.0                    Walt Disney Pictures     USA  Randal Kleiser   \n",
       "\n",
       "       genre        gross                      name rating    released  \\\n",
       "0  Adventure   52287414.0               Stand by Me      R  1986-08-22   \n",
       "1     Comedy   70136369.0  Ferris Bueller's Day Off  PG-13  1986-06-11   \n",
       "2     Action  179800601.0                   Top Gun     PG  1986-05-16   \n",
       "3     Action   85160248.0                    Aliens      R  1986-07-18   \n",
       "4  Adventure   18564613.0   Flight of the Navigator     PG  1986-08-01   \n",
       "\n",
       "   runtime  score               star   votes         writer  year  \n",
       "0       89    8.1        Wil Wheaton  299174   Stephen King  1986  \n",
       "1      103    7.8  Matthew Broderick  264740    John Hughes  1986  \n",
       "2      110    6.9         Tom Cruise  236909       Jim Cash  1986  \n",
       "3      137    8.4   Sigourney Weaver  540152  James Cameron  1986  \n",
       "4       90    6.9        Joey Cramer   36636  Mark H. Baker  1986  "
      ]
     },
     "execution_count": 5,
     "metadata": {},
     "output_type": "execute_result"
    }
   ],
   "source": [
    "data.head()"
   ]
  },
  {
   "cell_type": "markdown",
   "metadata": {},
   "source": [
    "# Braki danych"
   ]
  },
  {
   "cell_type": "code",
   "execution_count": 6,
   "metadata": {},
   "outputs": [
    {
     "name": "stdout",
     "output_type": "stream",
     "text": [
      "          Brakujące dane:\n",
      "budget                  0\n",
      "company                 0\n",
      "country                 0\n",
      "director                0\n",
      "genre                   0\n",
      "gross                   0\n",
      "name                    0\n",
      "rating                  0\n",
      "released                0\n",
      "runtime                 0\n",
      "score                   0\n",
      "star                    0\n",
      "votes                   0\n",
      "writer                  0\n",
      "year                    0\n"
     ]
    }
   ],
   "source": [
    "braki_danych = pd.concat([data.isnull().sum()], axis = 1, keys = [\"Brakujące dane:\"])\n",
    "print(braki_danych)"
   ]
  },
  {
   "cell_type": "code",
   "execution_count": 7,
   "metadata": {},
   "outputs": [
    {
     "data": {
      "text/html": [
       "<div>\n",
       "<style scoped>\n",
       "    .dataframe tbody tr th:only-of-type {\n",
       "        vertical-align: middle;\n",
       "    }\n",
       "\n",
       "    .dataframe tbody tr th {\n",
       "        vertical-align: top;\n",
       "    }\n",
       "\n",
       "    .dataframe thead th {\n",
       "        text-align: right;\n",
       "    }\n",
       "</style>\n",
       "<table border=\"1\" class=\"dataframe\">\n",
       "  <thead>\n",
       "    <tr style=\"text-align: right;\">\n",
       "      <th></th>\n",
       "      <th>count</th>\n",
       "      <th>mean</th>\n",
       "      <th>std</th>\n",
       "      <th>min</th>\n",
       "      <th>25%</th>\n",
       "      <th>50%</th>\n",
       "      <th>75%</th>\n",
       "      <th>max</th>\n",
       "    </tr>\n",
       "  </thead>\n",
       "  <tbody>\n",
       "    <tr>\n",
       "      <th>budget</th>\n",
       "      <td>6820.0</td>\n",
       "      <td>2.458113e+07</td>\n",
       "      <td>3.702254e+07</td>\n",
       "      <td>0.0</td>\n",
       "      <td>0.00</td>\n",
       "      <td>11000000.0</td>\n",
       "      <td>32000000.00</td>\n",
       "      <td>300000000.0</td>\n",
       "    </tr>\n",
       "    <tr>\n",
       "      <th>gross</th>\n",
       "      <td>6820.0</td>\n",
       "      <td>3.349783e+07</td>\n",
       "      <td>5.819760e+07</td>\n",
       "      <td>70.0</td>\n",
       "      <td>1515839.00</td>\n",
       "      <td>12135679.0</td>\n",
       "      <td>40065340.50</td>\n",
       "      <td>936662225.0</td>\n",
       "    </tr>\n",
       "    <tr>\n",
       "      <th>runtime</th>\n",
       "      <td>6820.0</td>\n",
       "      <td>1.065513e+02</td>\n",
       "      <td>1.802818e+01</td>\n",
       "      <td>50.0</td>\n",
       "      <td>95.00</td>\n",
       "      <td>102.0</td>\n",
       "      <td>115.00</td>\n",
       "      <td>366.0</td>\n",
       "    </tr>\n",
       "    <tr>\n",
       "      <th>score</th>\n",
       "      <td>6820.0</td>\n",
       "      <td>6.374897e+00</td>\n",
       "      <td>1.003142e+00</td>\n",
       "      <td>1.5</td>\n",
       "      <td>5.80</td>\n",
       "      <td>6.4</td>\n",
       "      <td>7.10</td>\n",
       "      <td>9.3</td>\n",
       "    </tr>\n",
       "    <tr>\n",
       "      <th>votes</th>\n",
       "      <td>6820.0</td>\n",
       "      <td>7.121952e+04</td>\n",
       "      <td>1.305176e+05</td>\n",
       "      <td>27.0</td>\n",
       "      <td>7665.25</td>\n",
       "      <td>25892.5</td>\n",
       "      <td>75812.25</td>\n",
       "      <td>1861666.0</td>\n",
       "    </tr>\n",
       "    <tr>\n",
       "      <th>year</th>\n",
       "      <td>6820.0</td>\n",
       "      <td>2.001000e+03</td>\n",
       "      <td>8.944501e+00</td>\n",
       "      <td>1986.0</td>\n",
       "      <td>1993.00</td>\n",
       "      <td>2001.0</td>\n",
       "      <td>2009.00</td>\n",
       "      <td>2016.0</td>\n",
       "    </tr>\n",
       "  </tbody>\n",
       "</table>\n",
       "</div>"
      ],
      "text/plain": [
       "          count          mean           std     min         25%         50%  \\\n",
       "budget   6820.0  2.458113e+07  3.702254e+07     0.0        0.00  11000000.0   \n",
       "gross    6820.0  3.349783e+07  5.819760e+07    70.0  1515839.00  12135679.0   \n",
       "runtime  6820.0  1.065513e+02  1.802818e+01    50.0       95.00       102.0   \n",
       "score    6820.0  6.374897e+00  1.003142e+00     1.5        5.80         6.4   \n",
       "votes    6820.0  7.121952e+04  1.305176e+05    27.0     7665.25     25892.5   \n",
       "year     6820.0  2.001000e+03  8.944501e+00  1986.0     1993.00      2001.0   \n",
       "\n",
       "                 75%          max  \n",
       "budget   32000000.00  300000000.0  \n",
       "gross    40065340.50  936662225.0  \n",
       "runtime       115.00        366.0  \n",
       "score           7.10          9.3  \n",
       "votes       75812.25    1861666.0  \n",
       "year         2009.00       2016.0  "
      ]
     },
     "execution_count": 7,
     "metadata": {},
     "output_type": "execute_result"
    }
   ],
   "source": [
    "data.describe().T"
   ]
  },
  {
   "cell_type": "code",
   "execution_count": 8,
   "metadata": {},
   "outputs": [
    {
     "name": "stdout",
     "output_type": "stream",
     "text": [
      "budget min = 0.0 & budget max = 300000000.0\n",
      "gross min = 70.0 & gross max = 936662225.0\n",
      "runtime min = 50 & runtime max = 366\n",
      "score min = 1.5 & score max = 9.3\n",
      "votes min = 27 & votes max = 1861666\n",
      "year min = 1986 & year max = 2016\n"
     ]
    }
   ],
   "source": [
    "for i in ['budget', 'gross', 'runtime', 'score', 'votes', 'year']:\n",
    "    print(i, 'min =', data[i].min(), '&', i, 'max =', data[i].max())"
   ]
  },
  {
   "cell_type": "code",
   "execution_count": 9,
   "metadata": {},
   "outputs": [
    {
     "data": {
      "text/plain": [
       "2182"
      ]
     },
     "execution_count": 9,
     "metadata": {},
     "output_type": "execute_result"
    }
   ],
   "source": [
    "len(data[data['budget']==0])"
   ]
  },
  {
   "cell_type": "markdown",
   "metadata": {},
   "source": [
    "W danym zbiorze danych nie ma braków. Braki danych w \"budget\" zostały zastąpione zerami. "
   ]
  },
  {
   "cell_type": "code",
   "execution_count": 10,
   "metadata": {},
   "outputs": [],
   "source": [
    "# budget, gross, runtime, \n",
    "# rating, genre, coutry, year"
   ]
  },
  {
   "cell_type": "markdown",
   "metadata": {},
   "source": [
    "# Zmienna rating"
   ]
  },
  {
   "cell_type": "code",
   "execution_count": 16,
   "metadata": {},
   "outputs": [
    {
     "data": {
      "text/plain": [
       "R          3392\n",
       "PG-13      1995\n",
       "PG          951\n",
       "UNRATED     308\n",
       "G           147\n",
       "NC-17        22\n",
       "TV-14         1\n",
       "TV-PG         1\n",
       "B             1\n",
       "B15           1\n",
       "TV-MA         1\n",
       "Name: rating, dtype: int64"
      ]
     },
     "execution_count": 16,
     "metadata": {},
     "output_type": "execute_result"
    }
   ],
   "source": [
    "data[\"rating\"].value_counts()"
   ]
  },
  {
   "cell_type": "code",
   "execution_count": 15,
   "metadata": {},
   "outputs": [],
   "source": [
    "data[\"rating\"] = pd.DataFrame(data[\"rating\"].replace(\n",
    "{'NOT RATED':'UNRATED'}))"
   ]
  },
  {
   "cell_type": "markdown",
   "metadata": {},
   "source": [
    "# Zmienna genre"
   ]
  },
  {
   "cell_type": "code",
   "execution_count": 24,
   "metadata": {},
   "outputs": [
    {
     "data": {
      "text/plain": [
       "Comedy       2080\n",
       "Drama        1444\n",
       "Action       1331\n",
       "Crime         522\n",
       "Adventure     392\n",
       "Biography     359\n",
       "Horror        277\n",
       "Animation     277\n",
       "Mystery        38\n",
       "Fantasy        32\n",
       "Thriller       18\n",
       "Romance        15\n",
       "Family         14\n",
       "Sci-Fi         13\n",
       "Musical         4\n",
       "Western         2\n",
       "War             2\n",
       "Name: genre, dtype: int64"
      ]
     },
     "execution_count": 24,
     "metadata": {},
     "output_type": "execute_result"
    }
   ],
   "source": [
    "data[\"genre\"].value_counts()"
   ]
  },
  {
   "cell_type": "markdown",
   "metadata": {},
   "source": [
    "# Zmienna country"
   ]
  },
  {
   "cell_type": "code",
   "execution_count": 34,
   "metadata": {},
   "outputs": [
    {
     "data": {
      "text/plain": [
       "USA                               4872\n",
       "UK                                 698\n",
       "France                             283\n",
       "Canada                             150\n",
       "Germany                            138\n",
       "Australia                           82\n",
       "Japan                               68\n",
       "China                               63\n",
       "Spain                               56\n",
       "Italy                               51\n",
       "Ireland                             44\n",
       "India                               39\n",
       "Denmark                             33\n",
       "South Korea                         20\n",
       "Belgium                             18\n",
       "New Zealand                         18\n",
       "Sweden                              18\n",
       "Mexico                              15\n",
       "Argentina                           13\n",
       "Iran                                12\n",
       "Netherlands                         12\n",
       "Russia                              11\n",
       "South Africa                         9\n",
       "Taiwan                               8\n",
       "Norway                               8\n",
       "Czech Republic                       8\n",
       "Hungary                              7\n",
       "Brazil                               6\n",
       "Switzerland                          6\n",
       "Austria                              6\n",
       "Romania                              5\n",
       "Israel                               5\n",
       "Greece                               5\n",
       "Chile                                4\n",
       "Finland                              3\n",
       "Thailand                             3\n",
       "Indonesia                            2\n",
       "Portugal                             2\n",
       "Colombia                             2\n",
       "Peru                                 2\n",
       "Poland                               2\n",
       "Ukraine                              1\n",
       "Aruba                                1\n",
       "Federal Republic of Yugoslavia       1\n",
       "Panama                               1\n",
       "Iceland                              1\n",
       "Cuba                                 1\n",
       "Jamaica                              1\n",
       "Saudi Arabia                         1\n",
       "Kenya                                1\n",
       "Republic of Macedonia                1\n",
       "Malta                                1\n",
       "Palestine                            1\n",
       "Bahamas                              1\n",
       "Name: country, dtype: int64"
      ]
     },
     "execution_count": 34,
     "metadata": {},
     "output_type": "execute_result"
    }
   ],
   "source": [
    "data[\"country\"].value_counts()"
   ]
  },
  {
   "cell_type": "code",
   "execution_count": 33,
   "metadata": {},
   "outputs": [],
   "source": [
    "data[\"country\"] = pd.DataFrame(data[\"country\"].replace(\n",
    "{'West Germany':'Germany', 'Hong Kong' : 'China', 'Soviet Union':'Russia'}))"
   ]
  },
  {
   "cell_type": "markdown",
   "metadata": {},
   "source": [
    "5 krajów z największą ilością filmów w danym zbiorze"
   ]
  },
  {
   "cell_type": "raw",
   "metadata": {},
   "source": [
    "country1, country2, country3, country4, country5 = data[data.country == \"USA\"], data[data.country == \"UK\"], data[data.country == \"France\"], data[data.country == \"Canada\"],data[data.country == \"Germany\"]"
   ]
  },
  {
   "cell_type": "code",
   "execution_count": 41,
   "metadata": {},
   "outputs": [
    {
     "data": {
      "text/plain": [
       "USA        4872\n",
       "UK          698\n",
       "Francja     283\n",
       "Kanada      150\n",
       "Niemcy      134\n",
       "Name: 5 krajów z największą ilością filmów, dtype: int64"
      ]
     },
     "execution_count": 41,
     "metadata": {},
     "output_type": "execute_result"
    },
    {
     "data": {
      "image/png": "[encoded data removed]",
      "text/plain": [
       "<Figure size 720x504 with 1 Axes>"
      ]
     },
     "metadata": {},
     "output_type": "display_data"
    }
   ],
   "source": [
    "wykres_kolowy = pd.Series([len(country1), len(country2), len(country3), len(country4), len(country5)], name = \"5 krajów z największą ilością filmów\", index = [\"USA\",\"UK\",\"Francja\",\"Kanada\", \"Niemcy\"])\n",
    "\n",
    "wykres_kolowy.plot.pie(figsize=(10, 7))\n",
    "wykres_kolowy"
   ]
  },
  {
   "cell_type": "markdown",
   "metadata": {},
   "source": [
    "# Zmienna year"
   ]
  },
  {
   "cell_type": "code",
   "execution_count": 55,
   "metadata": {},
   "outputs": [
    {
     "data": {
      "text/plain": [
       "1989    221\n",
       "2015    220\n",
       "2013    220\n",
       "1992    220\n",
       "1996    220\n",
       "2000    220\n",
       "2004    220\n",
       "2008    220\n",
       "2012    220\n",
       "2016    220\n",
       "1993    220\n",
       "1997    220\n",
       "2001    220\n",
       "2005    220\n",
       "2009    220\n",
       "1986    220\n",
       "2011    220\n",
       "1990    220\n",
       "1994    220\n",
       "1998    220\n",
       "2002    220\n",
       "2006    220\n",
       "2010    220\n",
       "2014    220\n",
       "1991    220\n",
       "1995    220\n",
       "1999    220\n",
       "2003    220\n",
       "2007    220\n",
       "1988    220\n",
       "1987    219\n",
       "Name: year, dtype: int64"
      ]
     },
     "execution_count": 55,
     "metadata": {},
     "output_type": "execute_result"
    }
   ],
   "source": [
    "data[\"year\"].value_counts()"
   ]
  },
  {
   "cell_type": "code",
   "execution_count": 54,
   "metadata": {},
   "outputs": [
    {
     "data": {
      "text/plain": [
       "array([1986., 1992., 1998., 2004., 2010., 2016.])"
      ]
     },
     "execution_count": 54,
     "metadata": {},
     "output_type": "execute_result"
    }
   ],
   "source": []
  },
  {
   "cell_type": "code",
   "execution_count": null,
   "metadata": {},
   "outputs": [],
   "source": []
  }
 ],
 "metadata": {
  "kernelspec": {
   "display_name": "Python 3",
   "language": "python",
   "name": "python3"
  },
  "language_info": {
   "codemirror_mode": {
    "name": "ipython",
    "version": 3
   },
   "file_extension": ".py",
   "mimetype": "text/x-python",
   "name": "python",
   "nbconvert_exporter": "python",
   "pygments_lexer": "ipython3",
   "version": "3.8.3"
  }
 },
 "nbformat": 4,
 "nbformat_minor": 2
}
